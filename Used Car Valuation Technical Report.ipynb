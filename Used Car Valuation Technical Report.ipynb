{
 "cells": [
  {
   "cell_type": "markdown",
   "metadata": {},
   "source": [
    "# What drives the price of a car?\n",
    "\n",
    "![](images/kurt.jpeg)"
   ]
  },
  {
   "cell_type": "markdown",
   "metadata": {},
   "source": [
    "**OVERVIEW**\n",
    "\n",
    "In this application, you will explore a dataset from kaggle. The original dataset contained information on 3 million used cars. The provided dataset contains information on 426K cars to ensure speed of processing.  Your goal is to understand what factors make a car more or less expensive.  As a result of your analysis, you should provide clear recommendations to your client -- a used car dealership -- as to what consumers value in a used car."
   ]
  },
  {
   "cell_type": "markdown",
   "metadata": {},
   "source": [
    "### CRISP-DM Framework\n",
    "\n",
    "<center>\n",
    "    <img src = images/crisp.png width = 50%/>\n",
    "</center>\n",
    "\n",
    "\n",
    "To frame the task, throughout our practical applications we will refer back to a standard process in industry for data projects called CRISP-DM.  This process provides a framework for working through a data problem.  Your first step in this application will be to read through a brief overview of CRISP-DM [here](https://mo-pcco.s3.us-east-1.amazonaws.com/BH-PCMLAI/module_11/readings_starter.zip).  After reading the overview, answer the questions below."
   ]
  },
  {
   "cell_type": "markdown",
   "metadata": {},
   "source": [
    "### Business Understanding\n",
    "\n",
    "From a business perspective, we are tasked with identifying key drivers for used car prices.  In the CRISP-DM overview, we are asked to convert this business framing to a data problem definition.  Using a few sentences, reframe the task as a data task with the appropriate technical vocabulary. "
   ]
  },
  {
   "cell_type": "markdown",
   "metadata": {},
   "source": [
    "Our main business objectives is as follows:\n",
    "We want to identify what factors make a car more or less expensive to present recommendations on what consumers value in a car to our client (a used car dealership).\n",
    "\n",
    "From a data perspective, we will be analysing the data to see which variables or key features of a car are the most potent predictors of the price of a car (our target variable).  \n",
    "\n",
    "This will be done by both general statistical analysis as well as creating models that examine the relationship between these features and the final price of the car.  The process of data analysis and modelling will identify which features are the greatest predictors (both positive and negative) of car price.   \n",
    "\n",
    "Ultimately, we will also pick the best performing model which most accurately predicts the price of each car based on the dataset provided.  \n",
    "\n",
    "These results and model will be presented to the client so that they can review and adjust their strategy for pricing their current and future inventory in line with customer expectations.\n"
   ]
  },
  {
   "cell_type": "markdown",
   "metadata": {},
   "source": [
    "### Data Understanding\n",
    "\n",
    "After considering the business understanding, we want to get familiar with our data.  Write down some steps that you would take to get to know the dataset and identify any quality issues within.  Take time to get to know the dataset and explore what information it contains and how this could be used to inform your business understanding."
   ]
  },
  {
   "cell_type": "markdown",
   "metadata": {},
   "source": [
    "The experimentation is broadly outlined as followed:\n",
    "1. Clean the data to remove missing or nonsensical values.<br>\n",
    "&nbsp;\n",
    "\n",
    "2. Preprocess the data by encoding non-numerical data where possible, and  consider transforming the data through methods such as standardization, normalization or applying a log transformation.  This helps with ensuring that the data more closely aligns with underlying mathematical assumptions in some of the models, and thus giving them a greater chance of success.  <br>\n",
    "&nbsp;\n",
    "\n",
    "3. Review the data, and plot graphs to highlight statistical properties such as correlations and distributions.  This high level investigation will help hone in on obvious relationships that should be explored.  Update step 2 if needed.<br>\n",
    "&nbsp;\n",
    "\n",
    "4. Train multiple models with iterations.  Use  cross validation methods to split the data into training and testing sets, and perform multiple iterations in order to select the optimum hyper-parameters for performance for each model type. Cross validation is the process of training and testing the model on different subsets of data, to review how well it performs on new unseen data.<br>\n",
    "&nbsp;\n",
    "5. Evaluate the best performing model.  In this study, the best performer will yield the highest accuracy in prediction after undergoing cross validation.  This means that the model is more likely to make accurate predictions (ie. generalize well) on new data.  A common metric for an accurate model is the one with the lowest mean square error (MSE), but other accuracy metrics can and should be selected depending on the models used.  <br>\n",
    "&nbsp;\n"
   ]
  },
  {
   "cell_type": "markdown",
   "metadata": {},
   "source": [
    "## Data Preparation\n",
    "\n",
    "After our initial exploration and fine tuning of the business understanding, it is time to construct our final dataset prior to modeling.  Here, we want to make sure to handle any integrity issues and cleaning, the engineering of new features, any transformations that we believe should happen (scaling, logarithms, normalization, etc.), and general preparation for modeling with `sklearn`. "
   ]
  },
  {
   "cell_type": "markdown",
   "metadata": {},
   "source": [
    "First, I import several Python libraries and tools which will be used throughout the analysis."
   ]
  },
  {
   "cell_type": "code",
   "execution_count": 1,
   "metadata": {},
   "outputs": [],
   "source": [
    "from random import shuffle, seed\n",
    "from sklearn.preprocessing import StandardScaler, OneHotEncoder, PolynomialFeatures, RobustScaler\n",
    "from sklearn.preprocessing import OrdinalEncoder, MinMaxScaler, FunctionTransformer\n",
    "from sklearn.feature_selection import SequentialFeatureSelector, RFE\n",
    "from sklearn.linear_model import Ridge, Lasso\n",
    "from sklearn.ensemble import RandomForestRegressor, GradientBoostingRegressor\n",
    "from sklearn.metrics import mean_squared_error, mean_absolute_error, r2_score\n",
    "from sklearn.inspection import permutation_importance\n",
    "from sklearn.impute import KNNImputer, SimpleImputer\n",
    "from sklearn.pipeline import Pipeline\n",
    "from sklearn.compose import make_column_transformer, ColumnTransformer, TransformedTargetRegressor\n",
    "from sklearn.base import BaseEstimator, TransformerMixin\n",
    "from sklearn.linear_model import LinearRegression\n",
    "from sklearn.model_selection import train_test_split, cross_val_score, GridSearchCV\n",
    "from sklearn.model_selection import LeavePOut, cross_validate, KFold, StratifiedKFold\n",
    "from sklearn.neighbors import NearestNeighbors\n",
    "from sklearn.cluster import KMeans, DBSCAN\n",
    "from statsmodels.stats.outliers_influence import variance_inflation_factor\n",
    "\n",
    "from sklearn.linear_model import LinearRegression, Lasso\n",
    "from sklearn.preprocessing import StandardScaler, PolynomialFeatures\n",
    "from sklearn.pipeline import Pipeline\n",
    "from sklearn.feature_selection import SequentialFeatureSelector, SelectFromModel\n",
    "from sklearn.metrics import mean_squared_error\n",
    "from sklearn.model_selection import train_test_split, GridSearchCV\n",
    "from sklearn import set_config\n",
    "set_config(display=\"diagram\")\n",
    "\n",
    "from sklearn.preprocessing import PolynomialFeatures, OneHotEncoder, OrdinalEncoder, StandardScaler\n",
    "from sklearn.feature_extraction.text import CountVectorizer\n",
    "\n",
    "import warnings\n",
    "warnings.filterwarnings(\"ignore\")\n",
    "\n",
    "from IPython.display import Markdown, display\n",
    "\n",
    "import matplotlib.pyplot as plt\n",
    "import pandas as pd\n",
    "import numpy as np\n",
    "import seaborn as sns\n",
    "import plotly.express as px\n",
    "import time"
   ]
  },
  {
   "cell_type": "markdown",
   "metadata": {},
   "source": [
    "Next, the data is loaded.  "
   ]
  },
  {
   "cell_type": "code",
   "execution_count": 2,
   "metadata": {},
   "outputs": [],
   "source": [
    "df = pd.read_csv('data/vehicles.csv')"
   ]
  },
  {
   "cell_type": "markdown",
   "metadata": {},
   "source": [
    "To get briefly acquainted with the contents of the data, we review the general information and first few rows of data below: "
   ]
  },
  {
   "cell_type": "code",
   "execution_count": 3,
   "metadata": {},
   "outputs": [
    {
     "data": {
      "text/html": [
       "<div>\n",
       "<style scoped>\n",
       "    .dataframe tbody tr th:only-of-type {\n",
       "        vertical-align: middle;\n",
       "    }\n",
       "\n",
       "    .dataframe tbody tr th {\n",
       "        vertical-align: top;\n",
       "    }\n",
       "\n",
       "    .dataframe thead th {\n",
       "        text-align: right;\n",
       "    }\n",
       "</style>\n",
       "<table border=\"1\" class=\"dataframe\">\n",
       "  <thead>\n",
       "    <tr style=\"text-align: right;\">\n",
       "      <th></th>\n",
       "      <th>id</th>\n",
       "      <th>region</th>\n",
       "      <th>price</th>\n",
       "      <th>year</th>\n",
       "      <th>manufacturer</th>\n",
       "      <th>model</th>\n",
       "      <th>condition</th>\n",
       "      <th>cylinders</th>\n",
       "      <th>fuel</th>\n",
       "      <th>odometer</th>\n",
       "      <th>title_status</th>\n",
       "      <th>transmission</th>\n",
       "      <th>VIN</th>\n",
       "      <th>drive</th>\n",
       "      <th>size</th>\n",
       "      <th>type</th>\n",
       "      <th>paint_color</th>\n",
       "      <th>state</th>\n",
       "    </tr>\n",
       "  </thead>\n",
       "  <tbody>\n",
       "    <tr>\n",
       "      <th>0</th>\n",
       "      <td>7222695916</td>\n",
       "      <td>prescott</td>\n",
       "      <td>6000</td>\n",
       "      <td>NaN</td>\n",
       "      <td>NaN</td>\n",
       "      <td>NaN</td>\n",
       "      <td>NaN</td>\n",
       "      <td>NaN</td>\n",
       "      <td>NaN</td>\n",
       "      <td>NaN</td>\n",
       "      <td>NaN</td>\n",
       "      <td>NaN</td>\n",
       "      <td>NaN</td>\n",
       "      <td>NaN</td>\n",
       "      <td>NaN</td>\n",
       "      <td>NaN</td>\n",
       "      <td>NaN</td>\n",
       "      <td>az</td>\n",
       "    </tr>\n",
       "    <tr>\n",
       "      <th>1</th>\n",
       "      <td>7218891961</td>\n",
       "      <td>fayetteville</td>\n",
       "      <td>11900</td>\n",
       "      <td>NaN</td>\n",
       "      <td>NaN</td>\n",
       "      <td>NaN</td>\n",
       "      <td>NaN</td>\n",
       "      <td>NaN</td>\n",
       "      <td>NaN</td>\n",
       "      <td>NaN</td>\n",
       "      <td>NaN</td>\n",
       "      <td>NaN</td>\n",
       "      <td>NaN</td>\n",
       "      <td>NaN</td>\n",
       "      <td>NaN</td>\n",
       "      <td>NaN</td>\n",
       "      <td>NaN</td>\n",
       "      <td>ar</td>\n",
       "    </tr>\n",
       "    <tr>\n",
       "      <th>2</th>\n",
       "      <td>7221797935</td>\n",
       "      <td>florida keys</td>\n",
       "      <td>21000</td>\n",
       "      <td>NaN</td>\n",
       "      <td>NaN</td>\n",
       "      <td>NaN</td>\n",
       "      <td>NaN</td>\n",
       "      <td>NaN</td>\n",
       "      <td>NaN</td>\n",
       "      <td>NaN</td>\n",
       "      <td>NaN</td>\n",
       "      <td>NaN</td>\n",
       "      <td>NaN</td>\n",
       "      <td>NaN</td>\n",
       "      <td>NaN</td>\n",
       "      <td>NaN</td>\n",
       "      <td>NaN</td>\n",
       "      <td>fl</td>\n",
       "    </tr>\n",
       "    <tr>\n",
       "      <th>3</th>\n",
       "      <td>7222270760</td>\n",
       "      <td>worcester / central MA</td>\n",
       "      <td>1500</td>\n",
       "      <td>NaN</td>\n",
       "      <td>NaN</td>\n",
       "      <td>NaN</td>\n",
       "      <td>NaN</td>\n",
       "      <td>NaN</td>\n",
       "      <td>NaN</td>\n",
       "      <td>NaN</td>\n",
       "      <td>NaN</td>\n",
       "      <td>NaN</td>\n",
       "      <td>NaN</td>\n",
       "      <td>NaN</td>\n",
       "      <td>NaN</td>\n",
       "      <td>NaN</td>\n",
       "      <td>NaN</td>\n",
       "      <td>ma</td>\n",
       "    </tr>\n",
       "    <tr>\n",
       "      <th>4</th>\n",
       "      <td>7210384030</td>\n",
       "      <td>greensboro</td>\n",
       "      <td>4900</td>\n",
       "      <td>NaN</td>\n",
       "      <td>NaN</td>\n",
       "      <td>NaN</td>\n",
       "      <td>NaN</td>\n",
       "      <td>NaN</td>\n",
       "      <td>NaN</td>\n",
       "      <td>NaN</td>\n",
       "      <td>NaN</td>\n",
       "      <td>NaN</td>\n",
       "      <td>NaN</td>\n",
       "      <td>NaN</td>\n",
       "      <td>NaN</td>\n",
       "      <td>NaN</td>\n",
       "      <td>NaN</td>\n",
       "      <td>nc</td>\n",
       "    </tr>\n",
       "  </tbody>\n",
       "</table>\n",
       "</div>"
      ],
      "text/plain": [
       "           id                  region  price  year manufacturer model  \\\n",
       "0  7222695916                prescott   6000   NaN          NaN   NaN   \n",
       "1  7218891961            fayetteville  11900   NaN          NaN   NaN   \n",
       "2  7221797935            florida keys  21000   NaN          NaN   NaN   \n",
       "3  7222270760  worcester / central MA   1500   NaN          NaN   NaN   \n",
       "4  7210384030              greensboro   4900   NaN          NaN   NaN   \n",
       "\n",
       "  condition cylinders fuel  odometer title_status transmission  VIN drive  \\\n",
       "0       NaN       NaN  NaN       NaN          NaN          NaN  NaN   NaN   \n",
       "1       NaN       NaN  NaN       NaN          NaN          NaN  NaN   NaN   \n",
       "2       NaN       NaN  NaN       NaN          NaN          NaN  NaN   NaN   \n",
       "3       NaN       NaN  NaN       NaN          NaN          NaN  NaN   NaN   \n",
       "4       NaN       NaN  NaN       NaN          NaN          NaN  NaN   NaN   \n",
       "\n",
       "  size type paint_color state  \n",
       "0  NaN  NaN         NaN    az  \n",
       "1  NaN  NaN         NaN    ar  \n",
       "2  NaN  NaN         NaN    fl  \n",
       "3  NaN  NaN         NaN    ma  \n",
       "4  NaN  NaN         NaN    nc  "
      ]
     },
     "execution_count": 3,
     "metadata": {},
     "output_type": "execute_result"
    }
   ],
   "source": [
    "df.head()"
   ]
  },
  {
   "cell_type": "code",
   "execution_count": 4,
   "metadata": {},
   "outputs": [
    {
     "name": "stdout",
     "output_type": "stream",
     "text": [
      "<class 'pandas.core.frame.DataFrame'>\n",
      "RangeIndex: 426880 entries, 0 to 426879\n",
      "Data columns (total 18 columns):\n",
      " #   Column        Non-Null Count   Dtype  \n",
      "---  ------        --------------   -----  \n",
      " 0   id            426880 non-null  int64  \n",
      " 1   region        426880 non-null  object \n",
      " 2   price         426880 non-null  int64  \n",
      " 3   year          425675 non-null  float64\n",
      " 4   manufacturer  409234 non-null  object \n",
      " 5   model         421603 non-null  object \n",
      " 6   condition     252776 non-null  object \n",
      " 7   cylinders     249202 non-null  object \n",
      " 8   fuel          423867 non-null  object \n",
      " 9   odometer      422480 non-null  float64\n",
      " 10  title_status  418638 non-null  object \n",
      " 11  transmission  424324 non-null  object \n",
      " 12  VIN           265838 non-null  object \n",
      " 13  drive         296313 non-null  object \n",
      " 14  size          120519 non-null  object \n",
      " 15  type          334022 non-null  object \n",
      " 16  paint_color   296677 non-null  object \n",
      " 17  state         426880 non-null  object \n",
      "dtypes: float64(2), int64(2), object(14)\n",
      "memory usage: 58.6+ MB\n"
     ]
    }
   ],
   "source": [
    "df.info()"
   ]
  },
  {
   "cell_type": "markdown",
   "metadata": {},
   "source": [
    "### 1) Data Cleaning"
   ]
  },
  {
   "cell_type": "markdown",
   "metadata": {},
   "source": [
    "The two immediate takeaways from this data scrub is that:\n",
    "1. There are many variables missing a significant amount of data\n",
    "2. Most of the data is non-numerical, and instead 'object' datatype"
   ]
  },
  {
   "cell_type": "markdown",
   "metadata": {},
   "source": [
    "I will take the following steps to clean up the data"
   ]
  },
  {
   "cell_type": "markdown",
   "metadata": {},
   "source": [
    "#### i) Remove Duplicates "
   ]
  },
  {
   "cell_type": "code",
   "execution_count": 5,
   "metadata": {},
   "outputs": [],
   "source": [
    "#First, make a copy of the dataset so the original can be maintained\n",
    "df_clean = df.copy()"
   ]
  },
  {
   "cell_type": "code",
   "execution_count": 6,
   "metadata": {},
   "outputs": [
    {
     "data": {
      "text/plain": [
       "0"
      ]
     },
     "execution_count": 6,
     "metadata": {},
     "output_type": "execute_result"
    }
   ],
   "source": [
    "#Check for duplicates\n",
    "duplicate_count = df.duplicated().sum()\n",
    "duplicate_count"
   ]
  },
  {
   "cell_type": "markdown",
   "metadata": {},
   "source": [
    "There are no duplicates across the entire dataset.\n",
    "Let's take a look at duplicate VINs specifically since this is supposed to be a unique identifier for a car"
   ]
  },
  {
   "cell_type": "code",
   "execution_count": 7,
   "metadata": {},
   "outputs": [
    {
     "data": {
      "text/plain": [
       "308633"
      ]
     },
     "execution_count": 7,
     "metadata": {},
     "output_type": "execute_result"
    }
   ],
   "source": [
    "#Check for duplicates\n",
    "duplicate_count = df.duplicated(subset=['VIN']).sum()\n",
    "duplicate_count"
   ]
  },
  {
   "cell_type": "markdown",
   "metadata": {},
   "source": [
    "It appears there are a significant amount of duplicated VIN entries.  Let's check how many unique VINs there are:"
   ]
  },
  {
   "cell_type": "code",
   "execution_count": 8,
   "metadata": {},
   "outputs": [
    {
     "data": {
      "text/plain": [
       "118246"
      ]
     },
     "execution_count": 8,
     "metadata": {},
     "output_type": "execute_result"
    }
   ],
   "source": [
    "unique_VINs_clean = df_clean['VIN'].nunique() \n",
    "unique_VINs_clean"
   ]
  },
  {
   "cell_type": "code",
   "execution_count": 9,
   "metadata": {},
   "outputs": [
    {
     "data": {
      "text/plain": [
       "VIN\n",
       "1FMJU1JT1HEA52352    261\n",
       "3C6JR6DT3KG560649    235\n",
       "1FTER1EH1LLA36301    231\n",
       "5TFTX4CN3EX042751    227\n",
       "1GCHTCE37G1186784    214\n",
       "                    ... \n",
       "1GCEK19J78Z219711      1\n",
       "JA4AT3AW1AZ006543      1\n",
       "4T1BF28B61U153724      1\n",
       "JTHCF5C25A5041393      1\n",
       "SAJGX2749VCOO8376      1\n",
       "Name: count, Length: 118246, dtype: int64"
      ]
     },
     "execution_count": 9,
     "metadata": {},
     "output_type": "execute_result"
    }
   ],
   "source": [
    "df_clean['VIN'].value_counts() "
   ]
  },
  {
   "cell_type": "markdown",
   "metadata": {},
   "source": [
    "To investigate why there are so many duplicate VINs and if we should be deleting them, let's deep dive into the most common one:"
   ]
  },
  {
   "cell_type": "code",
   "execution_count": 10,
   "metadata": {},
   "outputs": [],
   "source": [
    "MostCommonVIN = df.query('VIN==\"1FMJU1JT1HEA52352\"')"
   ]
  },
  {
   "cell_type": "markdown",
   "metadata": {},
   "source": [
    "The code below is searching for the unique values for each column of the dataset specific to the most common VIN:"
   ]
  },
  {
   "cell_type": "code",
   "execution_count": 11,
   "metadata": {},
   "outputs": [
    {
     "name": "stdout",
     "output_type": "stream",
     "text": [
      "0            id\n",
      "0    7311818189\n",
      "1    7311865995\n",
      "2    7311801032\n",
      "3    7311915565\n",
      "4    7311823034\n",
      "..          ...\n",
      "256  7311842926\n",
      "257  7311784162\n",
      "258  7311832579\n",
      "259  7311967545\n",
      "260  7311770039\n",
      "\n",
      "[261 rows x 1 columns] \n",
      "\n",
      "\n",
      "1                      region\n",
      "0                      auburn\n",
      "1                  birmingham\n",
      "2                      dothan\n",
      "3    florence / muscle shoals\n",
      "4            gadsden-anniston\n",
      "..                        ...\n",
      "248                   madison\n",
      "249                 milwaukee\n",
      "250                 sheboygan\n",
      "251                    wausau\n",
      "252                   wyoming\n",
      "\n",
      "[253 rows x 1 columns] \n",
      "\n",
      "\n",
      "2  price\n",
      "0  29590 \n",
      "\n",
      "\n",
      "3    year\n",
      "0  2017.0 \n",
      "\n",
      "\n",
      "4 manufacturer\n",
      "0         ford \n",
      "\n",
      "\n",
      "5                 model\n",
      "0  expedition xlt sport \n",
      "\n",
      "\n",
      "6 condition\n",
      "0      good \n",
      "\n",
      "\n",
      "7    cylinders\n",
      "0  6 cylinders \n",
      "\n",
      "\n",
      "8 fuel\n",
      "0  gas \n",
      "\n",
      "\n",
      "9  odometer\n",
      "0   70760.0 \n",
      "\n",
      "\n",
      "10 title_status\n",
      "0         clean \n",
      "\n",
      "\n",
      "11 transmission\n",
      "0         other \n",
      "\n",
      "\n",
      "12                VIN\n",
      "0   1FMJU1JT1HEA52352 \n",
      "\n",
      "\n",
      "13 drive\n",
      "0    4wd \n",
      "\n",
      "\n",
      "14 size\n",
      "0   NaN \n",
      "\n",
      "\n",
      "15 type\n",
      "0   SUV \n",
      "\n",
      "\n",
      "16 paint_color\n",
      "0         blue \n",
      "\n",
      "\n",
      "17 state\n",
      "0     al\n",
      "1     az\n",
      "2     ar\n",
      "3     ca\n",
      "4     co\n",
      "5     ct\n",
      "6     de\n",
      "7     fl\n",
      "8     ga\n",
      "9     il\n",
      "10    in\n",
      "11    ia\n",
      "12    ks\n",
      "13    ky\n",
      "14    la\n",
      "15    md\n",
      "16    ma\n",
      "17    mi\n",
      "18    mn\n",
      "19    ms\n",
      "20    mo\n",
      "21    nc\n",
      "22    nv\n",
      "23    nj\n",
      "24    nm\n",
      "25    ny\n",
      "26    nh\n",
      "27    oh\n",
      "28    ok\n",
      "29    pa\n",
      "30    ri\n",
      "31    sc\n",
      "32    tn\n",
      "33    tx\n",
      "34    va\n",
      "35    wv\n",
      "36    wi\n",
      "37    wy \n",
      "\n",
      "\n"
     ]
    }
   ],
   "source": [
    "#List all of the unique values per column\n",
    "\n",
    "#Step 1: Create a list of column names and convert to a dataframe\n",
    "col_names = pd.DataFrame(df_clean.columns.tolist())\n",
    "\n",
    "#Step 2: List unique values for each column and list alongside the column name\n",
    "\n",
    "for i in range (0,18):\n",
    "\n",
    "    unique_values = MostCommonVIN.iloc[:,i].unique()\n",
    "    print_unique_values = pd.DataFrame(unique_values, columns = col_names.iloc[i])\n",
    "    \n",
    "    print(pd.DataFrame(print_unique_values),'\\n\\n')\n",
    "    "
   ]
  },
  {
   "cell_type": "markdown",
   "metadata": {},
   "source": [
    "It looks like the only values that change are state.  Let's confirm this logic with the 2nd most common VIN:"
   ]
  },
  {
   "cell_type": "code",
   "execution_count": 12,
   "metadata": {},
   "outputs": [],
   "source": [
    "MostCommonVIN2 = df.query('VIN==\"3C6JR6DT3KG560649\"')"
   ]
  },
  {
   "cell_type": "code",
   "execution_count": 13,
   "metadata": {},
   "outputs": [
    {
     "name": "stdout",
     "output_type": "stream",
     "text": [
      "0            id\n",
      "0    7313337060\n",
      "1    7313375333\n",
      "2    7313325127\n",
      "3    7313336901\n",
      "4    7313325231\n",
      "..          ...\n",
      "230  7313349205\n",
      "231  7313251637\n",
      "232  7313343381\n",
      "233  7311961016\n",
      "234  7313235450\n",
      "\n",
      "[235 rows x 1 columns] \n",
      "\n",
      "\n",
      "1                      region\n",
      "0                      auburn\n",
      "1                  birmingham\n",
      "2                      dothan\n",
      "3    florence / muscle shoals\n",
      "4            gadsden-anniston\n",
      "..                        ...\n",
      "227                   madison\n",
      "228                 milwaukee\n",
      "229                 sheboygan\n",
      "230                    wausau\n",
      "231                   wyoming\n",
      "\n",
      "[232 rows x 1 columns] \n",
      "\n",
      "\n",
      "2  price\n",
      "0  25990 \n",
      "\n",
      "\n",
      "3    year\n",
      "0  2019.0 \n",
      "\n",
      "\n",
      "4 manufacturer\n",
      "0          ram \n",
      "\n",
      "\n",
      "5                     model\n",
      "0  1500 classic regular cab \n",
      "\n",
      "\n",
      "6 condition\n",
      "0      good \n",
      "\n",
      "\n",
      "7    cylinders\n",
      "0  8 cylinders \n",
      "\n",
      "\n",
      "8 fuel\n",
      "0  gas \n",
      "\n",
      "\n",
      "9  odometer\n",
      "0   12302.0 \n",
      "\n",
      "\n",
      "10 title_status\n",
      "0         clean \n",
      "\n",
      "\n",
      "11 transmission\n",
      "0         other \n",
      "\n",
      "\n",
      "12                VIN\n",
      "0   3C6JR6DT3KG560649 \n",
      "\n",
      "\n",
      "13 drive\n",
      "0    NaN \n",
      "\n",
      "\n",
      "14 size\n",
      "0   NaN \n",
      "\n",
      "\n",
      "15    type\n",
      "0   pickup \n",
      "\n",
      "\n",
      "16 paint_color\n",
      "0        white \n",
      "\n",
      "\n",
      "17 state\n",
      "0     al\n",
      "1     az\n",
      "2     ar\n",
      "3     ca\n",
      "4     co\n",
      "5     ct\n",
      "6     de\n",
      "7     fl\n",
      "8     ga\n",
      "9     il\n",
      "10    in\n",
      "11    ia\n",
      "12    ks\n",
      "13    ky\n",
      "14    la\n",
      "15    md\n",
      "16    ma\n",
      "17    mi\n",
      "18    mn\n",
      "19    ms\n",
      "20    mo\n",
      "21    nc\n",
      "22    nv\n",
      "23    nj\n",
      "24    nm\n",
      "25    ny\n",
      "26    nh\n",
      "27    oh\n",
      "28    ok\n",
      "29    or\n",
      "30    pa\n",
      "31    ri\n",
      "32    sc\n",
      "33    tn\n",
      "34    tx\n",
      "35    ut\n",
      "36    va\n",
      "37    wv\n",
      "38    wi\n",
      "39    wy \n",
      "\n",
      "\n"
     ]
    }
   ],
   "source": [
    "#List all of the unique values per column\n",
    "\n",
    "#Step 1: Create a list of column names and convert to a dataframe\n",
    "col_names = pd.DataFrame(df_clean.columns.tolist())\n",
    "\n",
    "#Step 2: List unique values for each column and list alongside the column name\n",
    "\n",
    "for i in range (0,18):\n",
    "\n",
    "    unique_values = MostCommonVIN2.iloc[:,i].unique()\n",
    "    print_unique_values = pd.DataFrame(unique_values, columns = col_names.iloc[i])\n",
    "    \n",
    "    print(pd.DataFrame(print_unique_values),'\\n\\n')\n",
    "    "
   ]
  },
  {
   "cell_type": "markdown",
   "metadata": {},
   "source": [
    "The top 2 most repeated VINs have exactly the same unique data and price value in all categories except for location (being region & state).  This indicates the same car being posted in multiple locations to broaden its marketplace reach.  As such I'll remove all VIN duplicates where only the location is changing between each entry. "
   ]
  },
  {
   "cell_type": "code",
   "execution_count": 14,
   "metadata": {},
   "outputs": [],
   "source": [
    "#Create list of all car features EXCEPT location and ID"
   ]
  },
  {
   "cell_type": "code",
   "execution_count": 15,
   "metadata": {},
   "outputs": [],
   "source": [
    "subset = ['price',\n",
    " 'year',\n",
    " 'manufacturer',\n",
    " 'model',\n",
    " 'condition',\n",
    " 'cylinders',\n",
    " 'fuel',\n",
    " 'odometer',\n",
    " 'title_status',\n",
    " 'transmission',\n",
    " 'VIN',\n",
    " 'drive',\n",
    " 'size',\n",
    " 'type',\n",
    " 'paint_color']"
   ]
  },
  {
   "cell_type": "code",
   "execution_count": 16,
   "metadata": {},
   "outputs": [
    {
     "data": {
      "text/plain": [
       "178138"
      ]
     },
     "execution_count": 16,
     "metadata": {},
     "output_type": "execute_result"
    }
   ],
   "source": [
    "#Calculating the number of entries with duplicates of all the above values\n",
    "duplicated_VINs = df.duplicated(subset).sum()\n",
    "duplicated_VINs"
   ]
  },
  {
   "cell_type": "markdown",
   "metadata": {},
   "source": [
    "There are 178,138 duplicated entries for VINs if we ignore state and location.  We will delete these, as they will skew the data incorrectly towards the cars with repeated VINs."
   ]
  },
  {
   "cell_type": "code",
   "execution_count": 17,
   "metadata": {},
   "outputs": [
    {
     "name": "stdout",
     "output_type": "stream",
     "text": [
      "<class 'pandas.core.frame.DataFrame'>\n",
      "Index: 248742 entries, 0 to 426873\n",
      "Data columns (total 18 columns):\n",
      " #   Column        Non-Null Count   Dtype  \n",
      "---  ------        --------------   -----  \n",
      " 0   id            248742 non-null  int64  \n",
      " 1   region        248742 non-null  object \n",
      " 2   price         248742 non-null  int64  \n",
      " 3   year          248045 non-null  float64\n",
      " 4   manufacturer  237862 non-null  object \n",
      " 5   model         245043 non-null  object \n",
      " 6   condition     149519 non-null  object \n",
      " 7   cylinders     159123 non-null  object \n",
      " 8   fuel          246984 non-null  object \n",
      " 9   odometer      246076 non-null  float64\n",
      " 10  title_status  244453 non-null  object \n",
      " 11  transmission  247331 non-null  object \n",
      " 12  VIN           126616 non-null  object \n",
      " 13  drive         177881 non-null  object \n",
      " 14  size          87760 non-null   object \n",
      " 15  type          185909 non-null  object \n",
      " 16  paint_color   173730 non-null  object \n",
      " 17  state         248742 non-null  object \n",
      "dtypes: float64(2), int64(2), object(14)\n",
      "memory usage: 36.1+ MB\n"
     ]
    }
   ],
   "source": [
    "df_clean = df_clean.drop_duplicates(subset)\n",
    "df_clean.info()"
   ]
  },
  {
   "cell_type": "code",
   "execution_count": 18,
   "metadata": {},
   "outputs": [
    {
     "data": {
      "text/plain": [
       "58.26977136431785"
      ]
     },
     "execution_count": 18,
     "metadata": {},
     "output_type": "execute_result"
    }
   ],
   "source": [
    "#Calculate the percentage of rows removed\n",
    "original_rows = len(df)\n",
    "df_clean_rows = len(df_clean)\n",
    "df_clean_rows / original_rows * 100"
   ]
  },
  {
   "cell_type": "markdown",
   "metadata": {},
   "source": [
    "We have dropped a significant amount of data by removing duplicate vins, only 58.3% of the original dataset remains.  However this now will not be skewed towards the cars with repeated entries."
   ]
  },
  {
   "cell_type": "markdown",
   "metadata": {},
   "source": [
    "#### ii) Remove nonsensical data"
   ]
  },
  {
   "cell_type": "markdown",
   "metadata": {},
   "source": [
    "During the data cleaning, I noticed some nonsensical VINs.  VINs should have letters and numbers.  Thus we search for vins without numbers and remove them:"
   ]
  },
  {
   "cell_type": "code",
   "execution_count": 19,
   "metadata": {},
   "outputs": [],
   "source": [
    "#Create a boolean mask to search for VINs without letters:\n",
    "letter_mask =~df_clean['VIN'].astype(str).str.contains('[a-zA-Z]')"
   ]
  },
  {
   "cell_type": "code",
   "execution_count": 20,
   "metadata": {},
   "outputs": [
    {
     "data": {
      "text/plain": [
       "VIN    306\n",
       "dtype: int64"
      ]
     },
     "execution_count": 20,
     "metadata": {},
     "output_type": "execute_result"
    }
   ],
   "source": [
    "#Count how many VINs without numbers exist:\n",
    "pd.DataFrame(df_clean['VIN'][letter_mask]).count()"
   ]
  },
  {
   "cell_type": "code",
   "execution_count": 21,
   "metadata": {},
   "outputs": [],
   "source": [
    "#Remove the VINs without numbers, apply this change to the entire dataframe:\n",
    "df_clean = df_clean[~letter_mask]"
   ]
  },
  {
   "cell_type": "markdown",
   "metadata": {},
   "source": [
    "#### iii) Drop unnecessary columns"
   ]
  },
  {
   "cell_type": "markdown",
   "metadata": {},
   "source": [
    "Since VIN and ID are now unique identifiers, we will drop these 2 columns.  We will also remove 'region' and 'model', as they contain almost exclusively unique values that will add too much complexity to our models without further aggregation."
   ]
  },
  {
   "cell_type": "code",
   "execution_count": 22,
   "metadata": {},
   "outputs": [],
   "source": [
    "df_clean = df_clean.drop(columns=['id','VIN', 'region','model'])"
   ]
  },
  {
   "cell_type": "markdown",
   "metadata": {},
   "source": [
    "After removing the 306 nonsensical vins, and dropping the ID and VIN column overall, we are left with the following data:"
   ]
  },
  {
   "cell_type": "code",
   "execution_count": 23,
   "metadata": {},
   "outputs": [
    {
     "name": "stdout",
     "output_type": "stream",
     "text": [
      "<class 'pandas.core.frame.DataFrame'>\n",
      "Index: 248436 entries, 0 to 426873\n",
      "Data columns (total 14 columns):\n",
      " #   Column        Non-Null Count   Dtype  \n",
      "---  ------        --------------   -----  \n",
      " 0   price         248436 non-null  int64  \n",
      " 1   year          247748 non-null  float64\n",
      " 2   manufacturer  237593 non-null  object \n",
      " 3   condition     149367 non-null  object \n",
      " 4   cylinders     158953 non-null  object \n",
      " 5   fuel          246725 non-null  object \n",
      " 6   odometer      245774 non-null  float64\n",
      " 7   title_status  244189 non-null  object \n",
      " 8   transmission  247070 non-null  object \n",
      " 9   drive         177736 non-null  object \n",
      " 10  size          87653 non-null   object \n",
      " 11  type          185762 non-null  object \n",
      " 12  paint_color   173573 non-null  object \n",
      " 13  state         248436 non-null  object \n",
      "dtypes: float64(2), int64(1), object(11)\n",
      "memory usage: 28.4+ MB\n"
     ]
    }
   ],
   "source": [
    "df_clean.info()"
   ]
  },
  {
   "cell_type": "markdown",
   "metadata": {},
   "source": [
    "#### iv) Remove outliers"
   ]
  },
  {
   "cell_type": "markdown",
   "metadata": {},
   "source": [
    "Let's inspect the range of data in the 3 numeric columns, to see if there are any outliers that need to be transformed or removed."
   ]
  },
  {
   "cell_type": "code",
   "execution_count": 24,
   "metadata": {},
   "outputs": [
    {
     "data": {
      "text/html": [
       "<div>\n",
       "<style scoped>\n",
       "    .dataframe tbody tr th:only-of-type {\n",
       "        vertical-align: middle;\n",
       "    }\n",
       "\n",
       "    .dataframe tbody tr th {\n",
       "        vertical-align: top;\n",
       "    }\n",
       "\n",
       "    .dataframe thead th {\n",
       "        text-align: right;\n",
       "    }\n",
       "</style>\n",
       "<table border=\"1\" class=\"dataframe\">\n",
       "  <thead>\n",
       "    <tr style=\"text-align: right;\">\n",
       "      <th></th>\n",
       "      <th>price</th>\n",
       "      <th>year</th>\n",
       "      <th>odometer</th>\n",
       "    </tr>\n",
       "  </thead>\n",
       "  <tbody>\n",
       "    <tr>\n",
       "      <th>count</th>\n",
       "      <td>248436</td>\n",
       "      <td>247748</td>\n",
       "      <td>245774</td>\n",
       "    </tr>\n",
       "    <tr>\n",
       "      <th>mean</th>\n",
       "      <td>113323</td>\n",
       "      <td>2009</td>\n",
       "      <td>112396</td>\n",
       "    </tr>\n",
       "    <tr>\n",
       "      <th>std</th>\n",
       "      <td>15968656</td>\n",
       "      <td>11</td>\n",
       "      <td>250842</td>\n",
       "    </tr>\n",
       "    <tr>\n",
       "      <th>min</th>\n",
       "      <td>0</td>\n",
       "      <td>1900</td>\n",
       "      <td>0</td>\n",
       "    </tr>\n",
       "    <tr>\n",
       "      <th>2%</th>\n",
       "      <td>0</td>\n",
       "      <td>1971</td>\n",
       "      <td>250</td>\n",
       "    </tr>\n",
       "    <tr>\n",
       "      <th>10%</th>\n",
       "      <td>800</td>\n",
       "      <td>2001</td>\n",
       "      <td>21245</td>\n",
       "    </tr>\n",
       "    <tr>\n",
       "      <th>25%</th>\n",
       "      <td>4900</td>\n",
       "      <td>2006</td>\n",
       "      <td>51807</td>\n",
       "    </tr>\n",
       "    <tr>\n",
       "      <th>50%</th>\n",
       "      <td>9999</td>\n",
       "      <td>2012</td>\n",
       "      <td>99739</td>\n",
       "    </tr>\n",
       "    <tr>\n",
       "      <th>75%</th>\n",
       "      <td>19960</td>\n",
       "      <td>2016</td>\n",
       "      <td>145600</td>\n",
       "    </tr>\n",
       "    <tr>\n",
       "      <th>99%</th>\n",
       "      <td>66500</td>\n",
       "      <td>2020</td>\n",
       "      <td>300000</td>\n",
       "    </tr>\n",
       "    <tr>\n",
       "      <th>max</th>\n",
       "      <td>3736928711</td>\n",
       "      <td>2022</td>\n",
       "      <td>10000000</td>\n",
       "    </tr>\n",
       "  </tbody>\n",
       "</table>\n",
       "</div>"
      ],
      "text/plain": [
       "           price   year  odometer\n",
       "count     248436 247748    245774\n",
       "mean      113323   2009    112396\n",
       "std     15968656     11    250842\n",
       "min            0   1900         0\n",
       "2%             0   1971       250\n",
       "10%          800   2001     21245\n",
       "25%         4900   2006     51807\n",
       "50%         9999   2012     99739\n",
       "75%        19960   2016    145600\n",
       "99%        66500   2020    300000\n",
       "max   3736928711   2022  10000000"
      ]
     },
     "execution_count": 24,
     "metadata": {},
     "output_type": "execute_result"
    }
   ],
   "source": [
    "pd.set_option('display.float_format', '{:.0f}'.format)\n",
    "\n",
    "custom_percentiles = [0.02, 0.1, 0.25, 0.5, 0.75, 0.99]\n",
    "df_clean.describe(percentiles = custom_percentiles)"
   ]
  },
  {
   "cell_type": "code",
   "execution_count": 25,
   "metadata": {},
   "outputs": [
    {
     "data": {
      "image/png": "[encoded data removed]",
      "text/plain": [
       "<Figure size 1000x1500 with 3 Axes>"
      ]
     },
     "metadata": {},
     "output_type": "display_data"
    }
   ],
   "source": [
    "# Create a figure with 3 subplots (3 rows, 1 column)\n",
    "fig, axes = plt.subplots(3, 1, figsize=(10, 15))\n",
    "\n",
    "# Histogram for Price\n",
    "sns.histplot(data = df_clean,  x= 'price', bins = 100, binrange =(0,100000), ax = axes[0])\n",
    "axes[0].set_title('Price Histogram')\n",
    "\n",
    "# Histogram for Odometer\n",
    "sns.histplot(data = df_clean,  x= 'odometer', bins = 100, binrange =(0,400000), ax = axes[1])\n",
    "axes[1].set_title('Odometer Histogram')\n",
    "\n",
    "# Histogram for Year\n",
    "sns.histplot(data = df_clean,  x= 'year', bins = 100, binrange =(1900,2030), ax = axes[2])\n",
    "axes[2].set_title('Year Histogram')\n",
    "\n",
    "# Adjust layout\n",
    "plt.tight_layout()\n",
    "\n",
    "# Show the plot\n",
    "plt.show()"
   ]
  },
  {
   "cell_type": "markdown",
   "metadata": {},
   "source": [
    "From the above description and histograms, we can see that price and odometer are skewed to the left, and also have some significant upper outliers that don't make any sense (>3 billion USD, and 1,000,000 miles).  We will remove values above the 99% percentile.\n",
    "\n",
    "For the lower outliers, we will remove below the 10% percentile for price, and for year and odometer, below the 2% percentile.  It is unlikely that anything exists for sale with these values that can be used as accurate data for a model(< 800 USD, car from before 1970, and odometer <250 miles)."
   ]
  },
  {
   "cell_type": "code",
   "execution_count": 26,
   "metadata": {},
   "outputs": [],
   "source": [
    "# Calculate percentile values for 'price'\n",
    "price_lower_bound = df_clean['price'].quantile(0.10)\n",
    "price_upper_bound = df_clean['price'].quantile(0.99)\n",
    "\n",
    "# Calculate percentile values for 'year'\n",
    "year_lower_bound = df_clean['year'].quantile(0.02)\n",
    "\n",
    "# Calculate percentile values for 'odometer'\n",
    "odometer_lower_bound = df_clean['odometer'].quantile(0.02)\n",
    "odometer_upper_bound = df_clean['odometer'].quantile(0.99)\n",
    "\n",
    "# Filter the DataFrame based on these percentile values\n",
    "df_clean = df_clean[\n",
    "    (df_clean['price'] >= price_lower_bound) & (df_clean['price'] <= price_upper_bound) &\n",
    "    (df_clean['year'] >= year_lower_bound) &\n",
    "    (df_clean['odometer'] >= odometer_lower_bound) & (df_clean['odometer'] <= odometer_upper_bound)]"
   ]
  },
  {
   "cell_type": "code",
   "execution_count": 27,
   "metadata": {},
   "outputs": [
    {
     "data": {
      "text/html": [
       "<div>\n",
       "<style scoped>\n",
       "    .dataframe tbody tr th:only-of-type {\n",
       "        vertical-align: middle;\n",
       "    }\n",
       "\n",
       "    .dataframe tbody tr th {\n",
       "        vertical-align: top;\n",
       "    }\n",
       "\n",
       "    .dataframe thead th {\n",
       "        text-align: right;\n",
       "    }\n",
       "</style>\n",
       "<table border=\"1\" class=\"dataframe\">\n",
       "  <thead>\n",
       "    <tr style=\"text-align: right;\">\n",
       "      <th></th>\n",
       "      <th>price</th>\n",
       "      <th>year</th>\n",
       "      <th>odometer</th>\n",
       "    </tr>\n",
       "  </thead>\n",
       "  <tbody>\n",
       "    <tr>\n",
       "      <th>count</th>\n",
       "      <td>210074</td>\n",
       "      <td>210074</td>\n",
       "      <td>210074</td>\n",
       "    </tr>\n",
       "    <tr>\n",
       "      <th>mean</th>\n",
       "      <td>15191</td>\n",
       "      <td>2010</td>\n",
       "      <td>108035</td>\n",
       "    </tr>\n",
       "    <tr>\n",
       "      <th>std</th>\n",
       "      <td>12010</td>\n",
       "      <td>8</td>\n",
       "      <td>60653</td>\n",
       "    </tr>\n",
       "    <tr>\n",
       "      <th>min</th>\n",
       "      <td>800</td>\n",
       "      <td>1971</td>\n",
       "      <td>250</td>\n",
       "    </tr>\n",
       "    <tr>\n",
       "      <th>2%</th>\n",
       "      <td>1600</td>\n",
       "      <td>1987</td>\n",
       "      <td>7757</td>\n",
       "    </tr>\n",
       "    <tr>\n",
       "      <th>10%</th>\n",
       "      <td>3600</td>\n",
       "      <td>2002</td>\n",
       "      <td>28155</td>\n",
       "    </tr>\n",
       "    <tr>\n",
       "      <th>25%</th>\n",
       "      <td>6152</td>\n",
       "      <td>2006</td>\n",
       "      <td>61000</td>\n",
       "    </tr>\n",
       "    <tr>\n",
       "      <th>50%</th>\n",
       "      <td>11566</td>\n",
       "      <td>2012</td>\n",
       "      <td>105000</td>\n",
       "    </tr>\n",
       "    <tr>\n",
       "      <th>75%</th>\n",
       "      <td>20699</td>\n",
       "      <td>2016</td>\n",
       "      <td>149219</td>\n",
       "    </tr>\n",
       "    <tr>\n",
       "      <th>99%</th>\n",
       "      <td>54999</td>\n",
       "      <td>2020</td>\n",
       "      <td>261485</td>\n",
       "    </tr>\n",
       "    <tr>\n",
       "      <th>max</th>\n",
       "      <td>66500</td>\n",
       "      <td>2022</td>\n",
       "      <td>300000</td>\n",
       "    </tr>\n",
       "  </tbody>\n",
       "</table>\n",
       "</div>"
      ],
      "text/plain": [
       "       price   year  odometer\n",
       "count 210074 210074    210074\n",
       "mean   15191   2010    108035\n",
       "std    12010      8     60653\n",
       "min      800   1971       250\n",
       "2%      1600   1987      7757\n",
       "10%     3600   2002     28155\n",
       "25%     6152   2006     61000\n",
       "50%    11566   2012    105000\n",
       "75%    20699   2016    149219\n",
       "99%    54999   2020    261485\n",
       "max    66500   2022    300000"
      ]
     },
     "execution_count": 27,
     "metadata": {},
     "output_type": "execute_result"
    }
   ],
   "source": [
    "df_clean.describe(percentiles = custom_percentiles)"
   ]
  },
  {
   "cell_type": "code",
   "execution_count": 28,
   "metadata": {},
   "outputs": [
    {
     "data": {
      "image/png": "[encoded data removed]",
      "text/plain": [
       "<Figure size 1000x1500 with 3 Axes>"
      ]
     },
     "metadata": {},
     "output_type": "display_data"
    }
   ],
   "source": [
    "# Create a figure with 3 subplots (3 rows, 1 column)\n",
    "fig, axes = plt.subplots(3, 1, figsize=(10, 15))\n",
    "\n",
    "# Histogram for Price\n",
    "sns.histplot(data = df_clean,  x= 'price', bins = 100, binrange =(0,100000), ax = axes[0])\n",
    "axes[0].set_title('Price Histogram')\n",
    "\n",
    "# Histogram for Odometer\n",
    "sns.histplot(data = df_clean,  x= 'odometer', bins = 100, binrange =(0,400000), ax = axes[1])\n",
    "axes[1].set_title('Odometer Histogram')\n",
    "\n",
    "# Histogram for Year\n",
    "sns.histplot(data = df_clean,  x= 'year', bins = 100, binrange =(1900,2030), ax = axes[2])\n",
    "axes[2].set_title('Year Histogram')\n",
    "\n",
    "# Adjust layout\n",
    "plt.tight_layout()\n",
    "\n",
    "# Show the plot\n",
    "plt.show()"
   ]
  },
  {
   "cell_type": "markdown",
   "metadata": {},
   "source": [
    "#### v) Apply Log Transform"
   ]
  },
  {
   "cell_type": "markdown",
   "metadata": {},
   "source": [
    "After removing the outliers, the price histogram is still fairly skewed to the left.  We will apply a log transformation during the machine learning pipelines to see if this helps improve the algorithm performance. A visualization of the log transform for price is below, and it appears to help normalization of the data, which may be useful for our models."
   ]
  },
  {
   "cell_type": "code",
   "execution_count": 29,
   "metadata": {},
   "outputs": [],
   "source": [
    "df_clean['price_log'] = np.log(df_clean['price'])"
   ]
  },
  {
   "cell_type": "code",
   "execution_count": 30,
   "metadata": {},
   "outputs": [
    {
     "data": {
      "image/png": "[encoded data removed]",
      "text/plain": [
       "<Figure size 1000x600 with 1 Axes>"
      ]
     },
     "metadata": {},
     "output_type": "display_data"
    }
   ],
   "source": [
    "fig, axes = plt.subplots(1, 1, figsize=(10, 6))\n",
    "\n",
    "# Histogram for Price\n",
    "sns.histplot(data = df_clean,  x= 'price_log', bins = 100, binrange =(0,15), ax = axes)\n",
    "axes.set_title('Price Log Histogram')\n",
    "\n",
    "plt.show()"
   ]
  },
  {
   "cell_type": "markdown",
   "metadata": {},
   "source": [
    "#### vi) Remove zero values"
   ]
  },
  {
   "cell_type": "markdown",
   "metadata": {},
   "source": [
    "The code below displays the unique categories for each column that has NaN values.  We will scan this information to get more insight into the non-null values in each category, to see if we should keep or remove them:"
   ]
  },
  {
   "cell_type": "code",
   "execution_count": 31,
   "metadata": {},
   "outputs": [
    {
     "name": "stdout",
     "output_type": "stream",
     "text": [
      "Unique Values for manufacturer:\n",
      "        manufacturer  % of Category\n",
      "0              ford             16\n",
      "1         chevrolet             13\n",
      "2            toyota              9\n",
      "3             honda              6\n",
      "4            nissan              5\n",
      "5              jeep              5\n",
      "6               gmc              4\n",
      "7               ram              3\n",
      "8               NaN              3\n",
      "9               bmw              3\n",
      "10            dodge              3\n",
      "11           subaru              3\n",
      "12    mercedes-benz              3\n",
      "13          hyundai              3\n",
      "14       volkswagen              2\n",
      "15              kia              2\n",
      "16            lexus              2\n",
      "17         chrysler              2\n",
      "18         cadillac              2\n",
      "19             audi              2\n",
      "20            mazda              1\n",
      "21            buick              1\n",
      "22            acura              1\n",
      "23         infiniti              1\n",
      "24          lincoln              1\n",
      "25            volvo              1\n",
      "26          pontiac              1\n",
      "27       mitsubishi              1\n",
      "28             mini              1\n",
      "29            rover              1\n",
      "30          mercury              0\n",
      "31           saturn              0\n",
      "32          porsche              0\n",
      "33           jaguar              0\n",
      "34             fiat              0\n",
      "35            tesla              0\n",
      "36       alfa-romeo              0\n",
      "37  harley-davidson              0\n",
      "38           datsun              0\n",
      "39       land rover              0\n",
      "40     aston-martin              0\n",
      "41          ferrari              0\n",
      "42           morgan              0 \n",
      "\n",
      "\n",
      "Unique Values for condition:\n",
      "    condition  % of Category\n",
      "0        NaN             37\n",
      "1  excellent             30\n",
      "2       good             24\n",
      "3   like new              7\n",
      "4       fair              3\n",
      "5        new              0\n",
      "6    salvage              0 \n",
      "\n",
      "\n",
      "Unique Values for cylinders:\n",
      "       cylinders  % of Category\n",
      "0           NaN             34\n",
      "1   4 cylinders             24\n",
      "2   6 cylinders             24\n",
      "3   8 cylinders             17\n",
      "4   5 cylinders              1\n",
      "5         other              0\n",
      "6  10 cylinders              0\n",
      "7   3 cylinders              0\n",
      "8  12 cylinders              0 \n",
      "\n",
      "\n",
      "Unique Values for fuel:\n",
      "        fuel  % of Category\n",
      "0       gas             89\n",
      "1    diesel              5\n",
      "2     other              3\n",
      "3    hybrid              1\n",
      "4       NaN              1\n",
      "5  electric              0 \n",
      "\n",
      "\n",
      "Unique Values for title_status:\n",
      "   title_status  % of Category\n",
      "0        clean             94\n",
      "1      rebuilt              3\n",
      "2          NaN              1\n",
      "3      salvage              1\n",
      "4         lien              1\n",
      "5      missing              0\n",
      "6   parts only              0 \n",
      "\n",
      "\n",
      "Unique Values for transmission:\n",
      "   transmission  % of Category\n",
      "0    automatic             88\n",
      "1       manual              7\n",
      "2        other              5\n",
      "3          NaN              0 \n",
      "\n",
      "\n",
      "Unique Values for drive:\n",
      "   drive  % of Category\n",
      "0   4wd             31\n",
      "1   fwd             28\n",
      "2   NaN             27\n",
      "3   rwd             14 \n",
      "\n",
      "\n",
      "Unique Values for size:\n",
      "           size  % of Category\n",
      "0          NaN             63\n",
      "1    full-size             19\n",
      "2     mid-size             12\n",
      "3      compact              6\n",
      "4  sub-compact              1 \n",
      "\n",
      "\n",
      "Unique Values for type:\n",
      "            type  % of Category\n",
      "0           NaN             25\n",
      "1         sedan             21\n",
      "2           SUV             20\n",
      "3         truck              8\n",
      "4        pickup              7\n",
      "5         coupe              4\n",
      "6     hatchback              4\n",
      "7         other              3\n",
      "8         wagon              2\n",
      "9   convertible              2\n",
      "10          van              2\n",
      "11     mini-van              2\n",
      "12      offroad              0\n",
      "13          bus              0 \n",
      "\n",
      "\n",
      "Unique Values for paint_color:\n",
      "    paint_color  % of Category\n",
      "0          NaN             28\n",
      "1        white             18\n",
      "2        black             14\n",
      "3       silver             11\n",
      "4         blue              8\n",
      "5         grey              7\n",
      "6          red              7\n",
      "7        green              2\n",
      "8       custom              2\n",
      "9        brown              2\n",
      "10      yellow              1\n",
      "11      orange              0\n",
      "12      purple              0 \n",
      "\n",
      "\n"
     ]
    }
   ],
   "source": [
    "# List all of the unique values per column along with their percentage (to 2 decimal places)\n",
    "# Only for columns that have NaN values\n",
    "\n",
    "# Step 1: Create a list of column names\n",
    "col_names = df_clean.columns.tolist()\n",
    "\n",
    "# Step 2: List unique values and their percentage for each column that has NaN values\n",
    "for col in col_names:\n",
    "    # Check if the column contains any NaN values\n",
    "    if df_clean[col].isna().any():\n",
    "        # Use value_counts with normalize=True to get percentages, include NaN values\n",
    "        unique_values_percentage = df_clean[col].value_counts(normalize=True, dropna=False) * 100\n",
    "\n",
    "        # Round percentages to 2 decimal places\n",
    "        unique_values_percentage = unique_values_percentage.round(2)\n",
    "\n",
    "        # Convert to DataFrame for nicer printing\n",
    "        print_unique_values = pd.DataFrame(unique_values_percentage).reset_index()\n",
    "        print_unique_values.columns = [col, '% of Category']\n",
    "\n",
    "        print(f\"Unique Values for {col}:\\n\", print_unique_values, '\\n\\n')\n"
   ]
  },
  {
   "cell_type": "markdown",
   "metadata": {},
   "source": [
    "We can also summarize the percentage of null values in each column, as shown below:"
   ]
  },
  {
   "cell_type": "code",
   "execution_count": 32,
   "metadata": {
    "scrolled": true
   },
   "outputs": [
    {
     "name": "stdout",
     "output_type": "stream",
     "text": [
      "              % Empty Data\n",
      "Category                  \n",
      "price                  0.0\n",
      "year                   0.0\n",
      "manufacturer           3.3\n",
      "condition             37.1\n",
      "cylinders             34.1\n",
      "fuel                   0.6\n",
      "odometer               0.0\n",
      "title_status           1.4\n",
      "transmission           0.4\n",
      "drive                 27.3\n",
      "size                  62.9\n",
      "type                  24.5\n",
      "paint_color           27.5\n",
      "state                  0.0\n",
      "price_log              0.0\n"
     ]
    }
   ],
   "source": [
    "#Reset # of decimal points displayed in the code:\n",
    "pd.set_option('display.float_format', '{:.1f}'.format)\n",
    "\n",
    "#Review how many null value counts have to be replaced or removed as a percentage\n",
    "null_percentage = pd.DataFrame(df_clean.isnull().sum() / len(df_clean)*100)\n",
    "null_percentage.columns = ['% Empty Data']\n",
    "null_percentage.index.name = 'Category'\n",
    "print(null_percentage)"
   ]
  },
  {
   "cell_type": "markdown",
   "metadata": {},
   "source": [
    "All the categories listed above seem to have significant empty NaN values, and are all items of interest.  These are all categories that are of high importance for valuing a car, such as car condition (37% missing data), and size (62% missing data). For our first pass at analysis, we will replace these NaN values with 'Unknown' as a category, to see if it turns out to be an important feature for predicting car price.\n",
    "\n",
    "In this case, it would be worth gathering this unknown information as inputs to a new model to improve model performance and accuracy.\n",
    "\n",
    "For simplicity, I'll keep anything > 5% missing, and drop null values if they are < 1% of the remaining dataset."
   ]
  },
  {
   "cell_type": "code",
   "execution_count": 33,
   "metadata": {},
   "outputs": [],
   "source": [
    "#List categories where we want to replace NaN with unknown (>1% missing data)\n",
    "col_replaceNaN = ['condition',\n",
    " 'cylinders',\n",
    " 'drive',\n",
    " 'size',\n",
    " 'type',\n",
    " 'paint_color']"
   ]
  },
  {
   "cell_type": "code",
   "execution_count": 34,
   "metadata": {},
   "outputs": [],
   "source": [
    "#Replace 'NaN' empty values in these columns with 'Unknown'\n",
    "df_clean.loc[:,col_replaceNaN]=df_clean.loc[:,col_replaceNaN].fillna('unknown')"
   ]
  },
  {
   "cell_type": "markdown",
   "metadata": {},
   "source": [
    "Let's check that we have removed the correct columns:"
   ]
  },
  {
   "cell_type": "code",
   "execution_count": 35,
   "metadata": {},
   "outputs": [
    {
     "data": {
      "text/plain": [
       "Category\n",
       "price              0\n",
       "year               0\n",
       "manufacturer    7032\n",
       "condition          0\n",
       "cylinders          0\n",
       "fuel            1163\n",
       "odometer           0\n",
       "title_status    2939\n",
       "transmission     762\n",
       "drive              0\n",
       "size               0\n",
       "type               0\n",
       "paint_color        0\n",
       "state              0\n",
       "price_log          0\n",
       "dtype: int64"
      ]
     },
     "execution_count": 35,
     "metadata": {},
     "output_type": "execute_result"
    }
   ],
   "source": [
    "df_clean.isnull().sum()"
   ]
  },
  {
   "cell_type": "markdown",
   "metadata": {},
   "source": [
    "Now we will drop the null values for the remaining columns:"
   ]
  },
  {
   "cell_type": "code",
   "execution_count": 36,
   "metadata": {},
   "outputs": [],
   "source": [
    "df_clean = df_clean.dropna()"
   ]
  },
  {
   "cell_type": "code",
   "execution_count": 37,
   "metadata": {},
   "outputs": [
    {
     "data": {
      "text/plain": [
       "Category\n",
       "price           0\n",
       "year            0\n",
       "manufacturer    0\n",
       "condition       0\n",
       "cylinders       0\n",
       "fuel            0\n",
       "odometer        0\n",
       "title_status    0\n",
       "transmission    0\n",
       "drive           0\n",
       "size            0\n",
       "type            0\n",
       "paint_color     0\n",
       "state           0\n",
       "price_log       0\n",
       "dtype: int64"
      ]
     },
     "execution_count": 37,
     "metadata": {},
     "output_type": "execute_result"
    }
   ],
   "source": [
    "df_clean.isnull().sum()"
   ]
  },
  {
   "cell_type": "markdown",
   "metadata": {},
   "source": [
    "#### vii) Reset Index"
   ]
  },
  {
   "cell_type": "code",
   "execution_count": 38,
   "metadata": {},
   "outputs": [],
   "source": [
    "df_clean = df_clean.reset_index(drop=True)"
   ]
  },
  {
   "cell_type": "code",
   "execution_count": 39,
   "metadata": {},
   "outputs": [
    {
     "name": "stdout",
     "output_type": "stream",
     "text": [
      "<class 'pandas.core.frame.DataFrame'>\n",
      "RangeIndex: 198439 entries, 0 to 198438\n",
      "Data columns (total 15 columns):\n",
      " #   Column        Non-Null Count   Dtype  \n",
      "---  ------        --------------   -----  \n",
      " 0   price         198439 non-null  int64  \n",
      " 1   year          198439 non-null  float64\n",
      " 2   manufacturer  198439 non-null  object \n",
      " 3   condition     198439 non-null  object \n",
      " 4   cylinders     198439 non-null  object \n",
      " 5   fuel          198439 non-null  object \n",
      " 6   odometer      198439 non-null  float64\n",
      " 7   title_status  198439 non-null  object \n",
      " 8   transmission  198439 non-null  object \n",
      " 9   drive         198439 non-null  object \n",
      " 10  size          198439 non-null  object \n",
      " 11  type          198439 non-null  object \n",
      " 12  paint_color   198439 non-null  object \n",
      " 13  state         198439 non-null  object \n",
      " 14  price_log     198439 non-null  float64\n",
      "dtypes: float64(3), int64(1), object(11)\n",
      "memory usage: 22.7+ MB\n"
     ]
    }
   ],
   "source": [
    "df_clean.info()"
   ]
  },
  {
   "cell_type": "code",
   "execution_count": 40,
   "metadata": {},
   "outputs": [],
   "source": [
    "original_df_length = len(df)\n",
    "clean_df_length = len(df_clean)\n",
    "change =  (original_df_length -clean_df_length)/original_df_length*100"
   ]
  },
  {
   "cell_type": "code",
   "execution_count": 41,
   "metadata": {},
   "outputs": [
    {
     "data": {
      "text/markdown": [
       "After these cleaning activities, we have reduced our dataset from 426,880 entries to 198,439 which is a 54% reduction."
      ],
      "text/plain": [
       "<IPython.core.display.Markdown object>"
      ]
     },
     "metadata": {},
     "output_type": "display_data"
    }
   ],
   "source": [
    "display(Markdown(f'After these cleaning activities, we have reduced our dataset from {original_df_length:,.0f} entries to {clean_df_length:,.0f} which is a {change:,.0f}% reduction.'))"
   ]
  },
  {
   "cell_type": "markdown",
   "metadata": {},
   "source": [
    "## Modeling\n",
    "\n",
    "With your (almost?) final dataset in hand, it is now time to build some models.  Here, you should build a number of different regression models with the price as the target.  In building your models, you should explore different parameters and be sure to cross-validate your findings."
   ]
  },
  {
   "cell_type": "markdown",
   "metadata": {},
   "source": [
    "### Methodology\n",
    "1. Build a column transform to encode object data into numerical, to be used in the model pipelines further down in the process.\n",
    "\n",
    "2. Split dataset into X/y, Train/test, using the default 75/25 ratio.  \n",
    "\n",
    "3. Establish a baseline using the mean - the model should perform better than this extremely simple metric\n",
    "\n",
    "4. Train and tune various models\n",
    "  - Select a range of hyperparameters relevant to each model\n",
    "  - Run each type of model through GridSearchCV.  This will select the optimal  hyperparameter that has the best average R2 score over its cross validations (we will use the default cross validation method of k-fold = 5).\n",
    "  \n",
    "5. Test the best performing models on unseen data (X_train)\n",
    "  - Record scoring metrics\n",
    "  - Collate all scores\n",
    "\n",
    "6. Compare best model performances un unseen data\n",
    "  - Select best model based on highest R2 score"
   ]
  },
  {
   "cell_type": "markdown",
   "metadata": {},
   "source": [
    "### i) Create Column Transformer to Encode Categorical Data to Numerical"
   ]
  },
  {
   "cell_type": "markdown",
   "metadata": {},
   "source": [
    "In order to be processed by machine learning algorithms, we need to encode object data into numerical data.  \n",
    "\n",
    "Categories with inherent numerical order will be coded with an Ordinal Encoder.\n",
    "\n",
    "Categories with no inherent numerical order will be coded with a One Hot Encoder."
   ]
  },
  {
   "cell_type": "code",
   "execution_count": 42,
   "metadata": {},
   "outputs": [],
   "source": [
    "#Define categories to be ordinally encoded:\n",
    "oe_columns = ['condition','cylinders','size']\n",
    "#Define numerical order for the unique values within these categories:\n",
    "category_orders = [['salvage','fair','good','unknown','excellent','like new','new'],\n",
    "                   ['3 cylinders','4 cylinders','5 cylinders','6 cylinders','unknown','8 cylinders', '10 cylinders', '12 cylinders','other'],\n",
    "                   ['sub-compact','compact','unknown','mid-size','full-size']]\n",
    "\n",
    "#Define categories to be one hot encoded:\n",
    "ohe_columns = ['manufacturer','fuel','title_status','transmission','drive','type','paint_color','state']\n",
    "\n",
    "\n",
    "#Define remaining numeric columns:\n",
    "numeric_columns = ['odometer','year']\n",
    "\n",
    "#Create column transformer:\n",
    "col_transformer = make_column_transformer((OneHotEncoder(sparse = False, drop='first'), ohe_columns),\n",
    "                                          (OrdinalEncoder(categories = category_orders), oe_columns),\n",
    "                                          (StandardScaler(), numeric_columns),\n",
    "                                          remainder = 'passthrough')\n"
   ]
  },
  {
   "cell_type": "markdown",
   "metadata": {},
   "source": [
    "### ii) Create X and y matrices for testing and training"
   ]
  },
  {
   "cell_type": "code",
   "execution_count": 43,
   "metadata": {},
   "outputs": [],
   "source": [
    "X = df_clean.drop(['price', 'price_log'], axis = 1)\n",
    "y = df_clean['price']"
   ]
  },
  {
   "cell_type": "code",
   "execution_count": 44,
   "metadata": {},
   "outputs": [],
   "source": [
    "X_train, X_test, y_train, y_test = train_test_split(X, y, random_state = 22)"
   ]
  },
  {
   "cell_type": "markdown",
   "metadata": {},
   "source": [
    "### iii) Establish baseline model"
   ]
  },
  {
   "cell_type": "markdown",
   "metadata": {},
   "source": [
    "Our baseline is simply taken as the mean squared error (MSE) loss that is experienced when the testing dataset of prices is compared to the average value of the training dataset of prices.  \n",
    "\n",
    "This yields an MSE of 143,248,631, as calculated below.  Our models should perform better and yield a lower loss than this rudimentary calculation."
   ]
  },
  {
   "cell_type": "code",
   "execution_count": 45,
   "metadata": {},
   "outputs": [
    {
     "name": "stdout",
     "output_type": "stream",
     "text": [
      "Baseline for training data:  143251464.566\n",
      "Baseline for testing data:  143248631.757\n"
     ]
    }
   ],
   "source": [
    "baseline_train = np.ones(shape = y_train.shape)*y_train.mean()\n",
    "baseline_test = np.ones(shape = y_test.shape)*y_test.mean()\n",
    "\n",
    "mse_baseline_train = mean_squared_error(baseline_train, y_train)\n",
    "mse_baseline_test = mean_squared_error(baseline_test, y_test)\n",
    "\n",
    "print(f'Baseline for training data: {mse_baseline_train: 0.3f}')\n",
    "print(f'Baseline for testing data: {mse_baseline_test: 0.3f}')"
   ]
  },
  {
   "cell_type": "markdown",
   "metadata": {},
   "source": [
    "### iv) Train Models "
   ]
  },
  {
   "cell_type": "markdown",
   "metadata": {},
   "source": [
    "First we will assign a dataframe to collect results of each model"
   ]
  },
  {
   "cell_type": "code",
   "execution_count": 46,
   "metadata": {},
   "outputs": [
    {
     "data": {
      "text/html": [
       "<div>\n",
       "<style scoped>\n",
       "    .dataframe tbody tr th:only-of-type {\n",
       "        vertical-align: middle;\n",
       "    }\n",
       "\n",
       "    .dataframe tbody tr th {\n",
       "        vertical-align: top;\n",
       "    }\n",
       "\n",
       "    .dataframe thead th {\n",
       "        text-align: right;\n",
       "    }\n",
       "</style>\n",
       "<table border=\"1\" class=\"dataframe\">\n",
       "  <thead>\n",
       "    <tr style=\"text-align: right;\">\n",
       "      <th></th>\n",
       "      <th>Model</th>\n",
       "      <th>Train Duration</th>\n",
       "      <th>Train MSE</th>\n",
       "      <th>Test MSE</th>\n",
       "      <th>Train MAE</th>\n",
       "      <th>Test MAE</th>\n",
       "      <th>Train R2 Score</th>\n",
       "      <th>Test R2 Score</th>\n",
       "    </tr>\n",
       "  </thead>\n",
       "  <tbody>\n",
       "  </tbody>\n",
       "</table>\n",
       "</div>"
      ],
      "text/plain": [
       "Empty DataFrame\n",
       "Columns: [Model, Train Duration, Train MSE, Test MSE, Train MAE, Test MAE, Train R2 Score, Test R2 Score]\n",
       "Index: []"
      ]
     },
     "execution_count": 46,
     "metadata": {},
     "output_type": "execute_result"
    }
   ],
   "source": [
    "results_df = pd.DataFrame(columns = ['Model', 'Train Duration', 'Train MSE', 'Test MSE', 'Train MAE','Test MAE','Train R2 Score', 'Test R2 Score'])\n",
    "results_df"
   ]
  },
  {
   "cell_type": "markdown",
   "metadata": {},
   "source": [
    "Next we will train several different types of models, as described in the methodology section above."
   ]
  },
  {
   "cell_type": "markdown",
   "metadata": {},
   "source": [
    "#### A: Logistic Regression"
   ]
  },
  {
   "cell_type": "code",
   "execution_count": 47,
   "metadata": {},
   "outputs": [
    {
     "data": {
      "text/plain": [
       "{'lr__fit_intercept': True}"
      ]
     },
     "execution_count": 47,
     "metadata": {},
     "output_type": "execute_result"
    }
   ],
   "source": [
    "#Create pipeline to transform data and train model\n",
    "lr_pipe = Pipeline([('transformer',col_transformer),\n",
    "                    ('lr', LinearRegression()) ])\n",
    "\n",
    "#Define parameters for Grid Search\n",
    "lr_params = {'lr__fit_intercept': [True, False]}\n",
    "\n",
    "#Define Grid\n",
    "lr_grid = GridSearchCV(estimator = lr_pipe,\n",
    "                       param_grid = lr_params,\n",
    "                       scoring = 'r2')\n",
    "\n",
    "#Fit Model\n",
    "lr_start_time = time.time()\n",
    "lr_grid.fit(X_train, y_train)\n",
    "lr_duration = time.time() - lr_start_time\n",
    "\n",
    "#Select best estimator to make predictions\n",
    "lr_best = lr_grid.best_estimator_\n",
    "y_pred_test = lr_best.predict(X_test)\n",
    "y_pred_train = lr_best.predict(X_train)\n",
    "\n",
    "#Score best estimator on training data\n",
    "lr_train_mse = mean_squared_error(y_train, y_pred_train)\n",
    "lr_train_mae = mean_absolute_error(y_train, y_pred_train)\n",
    "lr_train_r2 = r2_score(y_train, y_pred_train)\n",
    "lr_train_rmse = np.sqrt(lr_train_mse)  # RMSE is the square root of MSE\n",
    "\n",
    "#Score best estimator on test data\n",
    "lr_test_mse = mean_squared_error(y_test, y_pred_test)\n",
    "lr_test_mae = mean_absolute_error(y_test, y_pred_test)\n",
    "lr_test_r2 = r2_score(y_test, y_pred_test)\n",
    "lr_test_rmse = np.sqrt(lr_test_mse)\n",
    "\n",
    "#Display Best Parameter\n",
    "lr_params = lr_grid.best_params_\n",
    "lr_params"
   ]
  },
  {
   "cell_type": "code",
   "execution_count": 48,
   "metadata": {},
   "outputs": [
    {
     "data": {
      "text/html": [
       "<div>\n",
       "<style scoped>\n",
       "    .dataframe tbody tr th:only-of-type {\n",
       "        vertical-align: middle;\n",
       "    }\n",
       "\n",
       "    .dataframe tbody tr th {\n",
       "        vertical-align: top;\n",
       "    }\n",
       "\n",
       "    .dataframe thead th {\n",
       "        text-align: right;\n",
       "    }\n",
       "</style>\n",
       "<table border=\"1\" class=\"dataframe\">\n",
       "  <thead>\n",
       "    <tr style=\"text-align: right;\">\n",
       "      <th></th>\n",
       "      <th>Model</th>\n",
       "      <th>Train Duration</th>\n",
       "      <th>Train MSE</th>\n",
       "      <th>Test MSE</th>\n",
       "      <th>Train MAE</th>\n",
       "      <th>Test MAE</th>\n",
       "      <th>Train R2 Score</th>\n",
       "      <th>Test R2 Score</th>\n",
       "    </tr>\n",
       "  </thead>\n",
       "  <tbody>\n",
       "    <tr>\n",
       "      <th>0</th>\n",
       "      <td>Linear Regression</td>\n",
       "      <td>8.436</td>\n",
       "      <td>47170193.029</td>\n",
       "      <td>47448031.529</td>\n",
       "      <td>4922.388</td>\n",
       "      <td>4923.416</td>\n",
       "      <td>0.671</td>\n",
       "      <td>0.669</td>\n",
       "    </tr>\n",
       "  </tbody>\n",
       "</table>\n",
       "</div>"
      ],
      "text/plain": [
       "               Model  Train Duration    Train MSE     Test MSE  Train MAE  \\\n",
       "0  Linear Regression           8.436 47170193.029 47448031.529   4922.388   \n",
       "\n",
       "   Test MAE  Train R2 Score  Test R2 Score  \n",
       "0  4923.416           0.671          0.669  "
      ]
     },
     "execution_count": 48,
     "metadata": {},
     "output_type": "execute_result"
    }
   ],
   "source": [
    "#Change dataframe display to 3 decimals\n",
    "pd.set_option('display.float_format', '{:.3f}'.format)\n",
    "\n",
    "#Collate results\n",
    "lr_report = {\n",
    "    'Model': 'Linear Regression',\n",
    "    'Train Duration': lr_duration,\n",
    "    'Train MSE': lr_train_mse,\n",
    "    'Test MSE': lr_test_mse,\n",
    "    'Train MAE': lr_train_mae,\n",
    "    'Test MAE': lr_test_mae,\n",
    "    'Train R2 Score': lr_train_r2,\n",
    "    'Test R2 Score':lr_test_r2}\n",
    "\n",
    "\n",
    "#Apppend results to main dataframe\n",
    "lr_report = pd.DataFrame([lr_report])\n",
    "results_df = pd.concat([results_df, lr_report], ignore_index=True).round(3)\n",
    "results_df"
   ]
  },
  {
   "cell_type": "markdown",
   "metadata": {},
   "source": [
    "#### B: Ridge Regression"
   ]
  },
  {
   "cell_type": "code",
   "execution_count": 49,
   "metadata": {},
   "outputs": [
    {
     "data": {
      "text/plain": [
       "{'ridge__alpha': 1e-05}"
      ]
     },
     "execution_count": 49,
     "metadata": {},
     "output_type": "execute_result"
    }
   ],
   "source": [
    "#Create pipeline to transform data and train model\n",
    "ridge_pipe = Pipeline([('transformer',col_transformer),\n",
    "                    ('ridge', Ridge()) ])\n",
    "\n",
    "#Define parameters for Grid Search\n",
    "ridge_params = {'ridge__alpha': np.logspace(-5,3,9)}\n",
    "\n",
    "#Define Grid\n",
    "ridge_grid = GridSearchCV(estimator = ridge_pipe,\n",
    "                       param_grid = ridge_params,\n",
    "                       scoring = 'r2')\n",
    "\n",
    "#Fit Model\n",
    "ridge_start_time = time.time()\n",
    "ridge_grid.fit(X_train, y_train)\n",
    "ridge_duration = time.time() - ridge_start_time\n",
    "\n",
    "#Select best estimator to make predictions\n",
    "ridge_best = ridge_grid.best_estimator_\n",
    "y_pred_test = ridge_best.predict(X_test)\n",
    "y_pred_train = ridge_best.predict(X_train)\n",
    "\n",
    "#Score best estimator on training data\n",
    "ridge_train_mse = mean_squared_error(y_train, y_pred_train)\n",
    "ridge_train_mae = mean_absolute_error(y_train, y_pred_train)\n",
    "ridge_train_r2 = r2_score(y_train, y_pred_train)\n",
    "ridge_train_rmse = np.sqrt(ridge_train_mse)  # RMSE is the square root of MSE\n",
    "\n",
    "#Score best estimator on test data\n",
    "ridge_test_mse = mean_squared_error(y_test, y_pred_test)\n",
    "ridge_test_mae = mean_absolute_error(y_test, y_pred_test)\n",
    "ridge_test_r2 = r2_score(y_test, y_pred_test)\n",
    "ridge_test_rmse = np.sqrt(ridge_test_mse)\n",
    "\n",
    "#Display Best Parameter\n",
    "ridge_params = ridge_grid.best_params_\n",
    "ridge_params"
   ]
  },
  {
   "cell_type": "code",
   "execution_count": 50,
   "metadata": {},
   "outputs": [
    {
     "data": {
      "text/html": [
       "<div>\n",
       "<style scoped>\n",
       "    .dataframe tbody tr th:only-of-type {\n",
       "        vertical-align: middle;\n",
       "    }\n",
       "\n",
       "    .dataframe tbody tr th {\n",
       "        vertical-align: top;\n",
       "    }\n",
       "\n",
       "    .dataframe thead th {\n",
       "        text-align: right;\n",
       "    }\n",
       "</style>\n",
       "<table border=\"1\" class=\"dataframe\">\n",
       "  <thead>\n",
       "    <tr style=\"text-align: right;\">\n",
       "      <th></th>\n",
       "      <th>Model</th>\n",
       "      <th>Train Duration</th>\n",
       "      <th>Train MSE</th>\n",
       "      <th>Test MSE</th>\n",
       "      <th>Train MAE</th>\n",
       "      <th>Test MAE</th>\n",
       "      <th>Train R2 Score</th>\n",
       "      <th>Test R2 Score</th>\n",
       "    </tr>\n",
       "  </thead>\n",
       "  <tbody>\n",
       "    <tr>\n",
       "      <th>0</th>\n",
       "      <td>Linear Regression</td>\n",
       "      <td>8.436</td>\n",
       "      <td>47170193.029</td>\n",
       "      <td>47448031.529</td>\n",
       "      <td>4922.388</td>\n",
       "      <td>4923.416</td>\n",
       "      <td>0.671</td>\n",
       "      <td>0.669</td>\n",
       "    </tr>\n",
       "    <tr>\n",
       "      <th>1</th>\n",
       "      <td>Ridge Regression</td>\n",
       "      <td>24.307</td>\n",
       "      <td>47170193.029</td>\n",
       "      <td>47448031.445</td>\n",
       "      <td>4922.388</td>\n",
       "      <td>4923.416</td>\n",
       "      <td>0.671</td>\n",
       "      <td>0.669</td>\n",
       "    </tr>\n",
       "  </tbody>\n",
       "</table>\n",
       "</div>"
      ],
      "text/plain": [
       "               Model  Train Duration    Train MSE     Test MSE  Train MAE  \\\n",
       "0  Linear Regression           8.436 47170193.029 47448031.529   4922.388   \n",
       "1   Ridge Regression          24.307 47170193.029 47448031.445   4922.388   \n",
       "\n",
       "   Test MAE  Train R2 Score  Test R2 Score  \n",
       "0  4923.416           0.671          0.669  \n",
       "1  4923.416           0.671          0.669  "
      ]
     },
     "execution_count": 50,
     "metadata": {},
     "output_type": "execute_result"
    }
   ],
   "source": [
    "#Change dataframe display to 3 decimals\n",
    "pd.set_option('display.float_format', '{:.3f}'.format)\n",
    "\n",
    "#Collate results\n",
    "ridge_report = {\n",
    "    'Model': 'Ridge Regression',\n",
    "    'Train Duration': ridge_duration,\n",
    "    'Train MSE': ridge_train_mse,\n",
    "    'Test MSE': ridge_test_mse,\n",
    "    'Train MAE': ridge_train_mae,\n",
    "    'Test MAE': ridge_test_mae,\n",
    "    'Train R2 Score': ridge_train_r2,\n",
    "    'Test R2 Score':ridge_test_r2}\n",
    "\n",
    "\n",
    "#Apppend results to main dataframe\n",
    "ridge_report = pd.DataFrame([ridge_report])\n",
    "results_df = pd.concat([results_df, ridge_report], ignore_index=True).round(3)\n",
    "results_df"
   ]
  },
  {
   "cell_type": "markdown",
   "metadata": {},
   "source": [
    "#### C: Sequential Feature Selector with Linear Regression"
   ]
  },
  {
   "cell_type": "code",
   "execution_count": 51,
   "metadata": {},
   "outputs": [
    {
     "data": {
      "text/plain": [
       "{'selector__n_features_to_select': 3}"
      ]
     },
     "execution_count": 51,
     "metadata": {},
     "output_type": "execute_result"
    }
   ],
   "source": [
    "#Create pipeline to transform data and train model\n",
    "sel_pipe = Pipeline([('transformer',col_transformer),\n",
    "                     ('selector', SequentialFeatureSelector(estimator = LinearRegression())),\n",
    "                     ('model', LinearRegression())\n",
    "                         ])\n",
    "\n",
    "#Define parameters for Grid Search\n",
    "sel_params = {'selector__n_features_to_select':[3,4,5]}\n",
    "\n",
    "#Define Grid\n",
    "sel_grid = GridSearchCV(estimator = sel_pipe,\n",
    "                       param_grid = sel_params,\n",
    "                       scoring = 'r2')\n",
    "\n",
    "#Fit Model\n",
    "sel_start_time = time.time()\n",
    "sel_grid.fit(X_train, y_train)\n",
    "sel_duration = time.time() - sel_start_time\n",
    "\n",
    "#Select best estimator to make predictions\n",
    "sel_best = sel_grid.best_estimator_\n",
    "y_pred_test = sel_best.predict(X_test)\n",
    "y_pred_train = sel_best.predict(X_train)\n",
    "\n",
    "#Score best estimator on training data\n",
    "sel_train_mse = mean_squared_error(y_train, y_pred_train)\n",
    "sel_train_mae = mean_absolute_error(y_train, y_pred_train)\n",
    "sel_train_r2 = r2_score(y_train, y_pred_train)\n",
    "sel_train_rmse = np.sqrt(sel_train_mse)  # RMSE is the square root of MSE\n",
    "\n",
    "#Score best estimator on test data\n",
    "sel_test_mse = mean_squared_error(y_test, y_pred_test)\n",
    "sel_test_mae = mean_absolute_error(y_test, y_pred_test)\n",
    "sel_test_r2 = r2_score(y_test, y_pred_test)\n",
    "sel_test_rmse = np.sqrt(sel_test_mse)\n",
    "\n",
    "#Display Best Parameter\n",
    "sel_params = sel_grid.best_params_\n",
    "sel_params"
   ]
  },
  {
   "cell_type": "code",
   "execution_count": 52,
   "metadata": {},
   "outputs": [
    {
     "data": {
      "text/html": [
       "<div>\n",
       "<style scoped>\n",
       "    .dataframe tbody tr th:only-of-type {\n",
       "        vertical-align: middle;\n",
       "    }\n",
       "\n",
       "    .dataframe tbody tr th {\n",
       "        vertical-align: top;\n",
       "    }\n",
       "\n",
       "    .dataframe thead th {\n",
       "        text-align: right;\n",
       "    }\n",
       "</style>\n",
       "<table border=\"1\" class=\"dataframe\">\n",
       "  <thead>\n",
       "    <tr style=\"text-align: right;\">\n",
       "      <th></th>\n",
       "      <th>Model</th>\n",
       "      <th>Train Duration</th>\n",
       "      <th>Train MSE</th>\n",
       "      <th>Test MSE</th>\n",
       "      <th>Train MAE</th>\n",
       "      <th>Test MAE</th>\n",
       "      <th>Train R2 Score</th>\n",
       "      <th>Test R2 Score</th>\n",
       "    </tr>\n",
       "  </thead>\n",
       "  <tbody>\n",
       "    <tr>\n",
       "      <th>0</th>\n",
       "      <td>Linear Regression</td>\n",
       "      <td>8.436</td>\n",
       "      <td>47170193.029</td>\n",
       "      <td>47448031.529</td>\n",
       "      <td>4922.388</td>\n",
       "      <td>4923.416</td>\n",
       "      <td>0.671</td>\n",
       "      <td>0.669</td>\n",
       "    </tr>\n",
       "    <tr>\n",
       "      <th>1</th>\n",
       "      <td>Ridge Regression</td>\n",
       "      <td>24.307</td>\n",
       "      <td>47170193.029</td>\n",
       "      <td>47448031.445</td>\n",
       "      <td>4922.388</td>\n",
       "      <td>4923.416</td>\n",
       "      <td>0.671</td>\n",
       "      <td>0.669</td>\n",
       "    </tr>\n",
       "    <tr>\n",
       "      <th>2</th>\n",
       "      <td>Sequential Features</td>\n",
       "      <td>431.415</td>\n",
       "      <td>75021076.456</td>\n",
       "      <td>75310323.353</td>\n",
       "      <td>6317.536</td>\n",
       "      <td>6311.299</td>\n",
       "      <td>0.476</td>\n",
       "      <td>0.474</td>\n",
       "    </tr>\n",
       "  </tbody>\n",
       "</table>\n",
       "</div>"
      ],
      "text/plain": [
       "                 Model  Train Duration    Train MSE     Test MSE  Train MAE  \\\n",
       "0    Linear Regression           8.436 47170193.029 47448031.529   4922.388   \n",
       "1     Ridge Regression          24.307 47170193.029 47448031.445   4922.388   \n",
       "2  Sequential Features         431.415 75021076.456 75310323.353   6317.536   \n",
       "\n",
       "   Test MAE  Train R2 Score  Test R2 Score  \n",
       "0  4923.416           0.671          0.669  \n",
       "1  4923.416           0.671          0.669  \n",
       "2  6311.299           0.476          0.474  "
      ]
     },
     "execution_count": 52,
     "metadata": {},
     "output_type": "execute_result"
    }
   ],
   "source": [
    "#Change dataframe display to 3 decimals\n",
    "pd.set_option('display.float_format', '{:.3f}'.format)\n",
    "\n",
    "#Collate results\n",
    "sel_report = {\n",
    "    'Model': 'Sequential Features',\n",
    "    'Train Duration': sel_duration,\n",
    "    'Train MSE': sel_train_mse,\n",
    "    'Test MSE': sel_test_mse,\n",
    "    'Train MAE': sel_train_mae,\n",
    "    'Test MAE': sel_test_mae,\n",
    "    'Train R2 Score': sel_train_r2,\n",
    "    'Test R2 Score':sel_test_r2}\n",
    "\n",
    "\n",
    "#Apppend results to main dataframe\n",
    "sel_report = pd.DataFrame([sel_report])\n",
    "results_df = pd.concat([results_df, sel_report], ignore_index=True).round(3)\n",
    "results_df"
   ]
  },
  {
   "cell_type": "markdown",
   "metadata": {},
   "source": [
    "#### D: Polynomial Features"
   ]
  },
  {
   "cell_type": "code",
   "execution_count": 53,
   "metadata": {},
   "outputs": [
    {
     "data": {
      "text/plain": [
       "{'poly__degree': 2}"
      ]
     },
     "execution_count": 53,
     "metadata": {},
     "output_type": "execute_result"
    }
   ],
   "source": [
    "#Create pipeline to transform data and train model\n",
    "poly_pipe = Pipeline([('transformer',col_transformer),\n",
    "                      ('selector', SequentialFeatureSelector(estimator = LinearRegression(), n_features_to_select = 3)),\n",
    "                      ('poly', PolynomialFeatures(degree=2,include_bias=False)),\n",
    "                      ('model', Ridge())\n",
    "                     ])\n",
    "\n",
    "#Define parameters for Grid Search\n",
    "poly_params = {'poly__degree':[2,3,4]}\n",
    "\n",
    "#Define Grid\n",
    "poly_grid = GridSearchCV(estimator = poly_pipe,\n",
    "                       param_grid = poly_params,\n",
    "                       scoring = 'r2')\n",
    "\n",
    "#Fit Model\n",
    "poly_start_time = time.time()\n",
    "poly_grid.fit(X_train, y_train)\n",
    "poly_duration = time.time() - poly_start_time\n",
    "\n",
    "#polyect best estimator to make predictions\n",
    "poly_best = poly_grid.best_estimator_\n",
    "y_pred_test = poly_best.predict(X_test)\n",
    "y_pred_train = poly_best.predict(X_train)\n",
    "\n",
    "#Score best estimator on training data\n",
    "poly_train_mse = mean_squared_error(y_train, y_pred_train)\n",
    "poly_train_mae = mean_absolute_error(y_train, y_pred_train)\n",
    "poly_train_r2 = r2_score(y_train, y_pred_train)\n",
    "poly_train_rmse = np.sqrt(poly_train_mse)  # RMSE is the square root of MSE\n",
    "\n",
    "#Score best estimator on test data\n",
    "poly_test_mse = mean_squared_error(y_test, y_pred_test)\n",
    "poly_test_mae = mean_absolute_error(y_test, y_pred_test)\n",
    "poly_test_r2 = r2_score(y_test, y_pred_test)\n",
    "poly_test_rmse = np.sqrt(poly_test_mse)\n",
    "\n",
    "#Display Best Parameter\n",
    "poly_params = poly_grid.best_params_\n",
    "poly_params"
   ]
  },
  {
   "cell_type": "code",
   "execution_count": 54,
   "metadata": {},
   "outputs": [
    {
     "data": {
      "text/html": [
       "<div>\n",
       "<style scoped>\n",
       "    .dataframe tbody tr th:only-of-type {\n",
       "        vertical-align: middle;\n",
       "    }\n",
       "\n",
       "    .dataframe tbody tr th {\n",
       "        vertical-align: top;\n",
       "    }\n",
       "\n",
       "    .dataframe thead th {\n",
       "        text-align: right;\n",
       "    }\n",
       "</style>\n",
       "<table border=\"1\" class=\"dataframe\">\n",
       "  <thead>\n",
       "    <tr style=\"text-align: right;\">\n",
       "      <th></th>\n",
       "      <th>Model</th>\n",
       "      <th>Train Duration</th>\n",
       "      <th>Train MSE</th>\n",
       "      <th>Test MSE</th>\n",
       "      <th>Train MAE</th>\n",
       "      <th>Test MAE</th>\n",
       "      <th>Train R2 Score</th>\n",
       "      <th>Test R2 Score</th>\n",
       "    </tr>\n",
       "  </thead>\n",
       "  <tbody>\n",
       "    <tr>\n",
       "      <th>0</th>\n",
       "      <td>Linear Regression</td>\n",
       "      <td>8.436</td>\n",
       "      <td>47170193.029</td>\n",
       "      <td>47448031.529</td>\n",
       "      <td>4922.388</td>\n",
       "      <td>4923.416</td>\n",
       "      <td>0.671</td>\n",
       "      <td>0.669</td>\n",
       "    </tr>\n",
       "    <tr>\n",
       "      <th>1</th>\n",
       "      <td>Ridge Regression</td>\n",
       "      <td>24.307</td>\n",
       "      <td>47170193.029</td>\n",
       "      <td>47448031.445</td>\n",
       "      <td>4922.388</td>\n",
       "      <td>4923.416</td>\n",
       "      <td>0.671</td>\n",
       "      <td>0.669</td>\n",
       "    </tr>\n",
       "    <tr>\n",
       "      <th>2</th>\n",
       "      <td>Sequential Features</td>\n",
       "      <td>431.415</td>\n",
       "      <td>75021076.456</td>\n",
       "      <td>75310323.353</td>\n",
       "      <td>6317.536</td>\n",
       "      <td>6311.299</td>\n",
       "      <td>0.476</td>\n",
       "      <td>0.474</td>\n",
       "    </tr>\n",
       "    <tr>\n",
       "      <th>3</th>\n",
       "      <td>Polynomial Features</td>\n",
       "      <td>285.870</td>\n",
       "      <td>62319118.706</td>\n",
       "      <td>62592898.446</td>\n",
       "      <td>5448.588</td>\n",
       "      <td>5434.150</td>\n",
       "      <td>0.565</td>\n",
       "      <td>0.563</td>\n",
       "    </tr>\n",
       "  </tbody>\n",
       "</table>\n",
       "</div>"
      ],
      "text/plain": [
       "                 Model  Train Duration    Train MSE     Test MSE  Train MAE  \\\n",
       "0    Linear Regression           8.436 47170193.029 47448031.529   4922.388   \n",
       "1     Ridge Regression          24.307 47170193.029 47448031.445   4922.388   \n",
       "2  Sequential Features         431.415 75021076.456 75310323.353   6317.536   \n",
       "3  Polynomial Features         285.870 62319118.706 62592898.446   5448.588   \n",
       "\n",
       "   Test MAE  Train R2 Score  Test R2 Score  \n",
       "0  4923.416           0.671          0.669  \n",
       "1  4923.416           0.671          0.669  \n",
       "2  6311.299           0.476          0.474  \n",
       "3  5434.150           0.565          0.563  "
      ]
     },
     "execution_count": 54,
     "metadata": {},
     "output_type": "execute_result"
    }
   ],
   "source": [
    "#Change dataframe display to 3 decimals\n",
    "pd.set_option('display.float_format', '{:.3f}'.format)\n",
    "\n",
    "#Collate results\n",
    "poly_report = {\n",
    "    'Model': 'Polynomial Features',\n",
    "    'Train Duration': poly_duration,\n",
    "    'Train MSE': poly_train_mse,\n",
    "    'Test MSE': poly_test_mse,\n",
    "    'Train MAE': poly_train_mae,\n",
    "    'Test MAE': poly_test_mae,\n",
    "    'Train R2 Score': poly_train_r2,\n",
    "    'Test R2 Score':poly_test_r2}\n",
    "\n",
    "\n",
    "#Apppend results to main dataframe\n",
    "poly_report = pd.DataFrame([poly_report])\n",
    "results_df = pd.concat([results_df, poly_report], ignore_index=True).round(3)\n",
    "results_df"
   ]
  },
  {
   "cell_type": "markdown",
   "metadata": {},
   "source": [
    "## Evaluation\n",
    "\n",
    "With some modeling accomplished, we aim to reflect on what we identify as a high quality model and what we are able to learn from this.  We should review our business objective and explore how well we can provide meaningful insight on drivers of used car prices.  Your goal now is to distill your findings and determine whether the earlier phases need revisitation and adjustment or if you have information of value to bring back to your client."
   ]
  },
  {
   "cell_type": "markdown",
   "metadata": {},
   "source": [
    "Our best model is selected based on the highest R2 score.  An ideal R2 is 1, which means that the model perfectly explains all the variance in the target variable.\n",
    "\n",
    "We can see from our summary table that Linear and Ridge Regression models performed the best, with the highest R2 score of 0.669, meaning that approximately 67% of the variance in the target variable (price) was explained by our model.\n",
    "\n",
    "Ridge performed exactly the same as Linear, since the optimal hyperparameter that was selected by GridSearchCV was alpha = 10^-5, meaning that the regularization term was so small it was basically cancelled out, and the model hence behaves very similarly to Linear Regression.\n",
    "\n",
    "In terms of how the Linear Regression model improved against our baseline, with a smaller Mean Squared Error (MSE) of 47,448,031 which is approximately 67% reduction compared to the baseline MSE of 143,248,631. \n",
    "\n",
    "The sequential feature selection and polynomial feature transformation models performed significantly worse with a 0.474 and 0.563 R2 score respectively, indicating that a simpler linear model that takes into account all cleaned parameters is a better estimator of price than a reduced selection of transformed features.  However, as the R2 score is still well below the perfect score '1', there is further investigation and tuning work to be done.\n",
    "\n",
    "Due to time constraints, we will proceed with our Linear Regression model as the best performing for now, and review which of the features within this model were weighted with highest importance by reviewing Permutation Importance Score for our features."
   ]
  },
  {
   "cell_type": "code",
   "execution_count": 59,
   "metadata": {},
   "outputs": [
    {
     "data": {
      "text/html": [
       "<div>\n",
       "<style scoped>\n",
       "    .dataframe tbody tr th:only-of-type {\n",
       "        vertical-align: middle;\n",
       "    }\n",
       "\n",
       "    .dataframe tbody tr th {\n",
       "        vertical-align: top;\n",
       "    }\n",
       "\n",
       "    .dataframe thead th {\n",
       "        text-align: right;\n",
       "    }\n",
       "</style>\n",
       "<table border=\"1\" class=\"dataframe\">\n",
       "  <thead>\n",
       "    <tr style=\"text-align: right;\">\n",
       "      <th></th>\n",
       "      <th>Feature</th>\n",
       "      <th>Importance</th>\n",
       "      <th>Std Deviation</th>\n",
       "    </tr>\n",
       "  </thead>\n",
       "  <tbody>\n",
       "    <tr>\n",
       "      <th>5</th>\n",
       "      <td>odometer</td>\n",
       "      <td>0.370</td>\n",
       "      <td>0.003</td>\n",
       "    </tr>\n",
       "    <tr>\n",
       "      <th>0</th>\n",
       "      <td>year</td>\n",
       "      <td>0.250</td>\n",
       "      <td>0.002</td>\n",
       "    </tr>\n",
       "    <tr>\n",
       "      <th>4</th>\n",
       "      <td>fuel</td>\n",
       "      <td>0.074</td>\n",
       "      <td>0.001</td>\n",
       "    </tr>\n",
       "    <tr>\n",
       "      <th>1</th>\n",
       "      <td>manufacturer</td>\n",
       "      <td>0.061</td>\n",
       "      <td>0.001</td>\n",
       "    </tr>\n",
       "    <tr>\n",
       "      <th>8</th>\n",
       "      <td>drive</td>\n",
       "      <td>0.059</td>\n",
       "      <td>0.001</td>\n",
       "    </tr>\n",
       "    <tr>\n",
       "      <th>10</th>\n",
       "      <td>type</td>\n",
       "      <td>0.056</td>\n",
       "      <td>0.001</td>\n",
       "    </tr>\n",
       "    <tr>\n",
       "      <th>3</th>\n",
       "      <td>cylinders</td>\n",
       "      <td>0.029</td>\n",
       "      <td>0.001</td>\n",
       "    </tr>\n",
       "    <tr>\n",
       "      <th>12</th>\n",
       "      <td>state</td>\n",
       "      <td>0.022</td>\n",
       "      <td>0.001</td>\n",
       "    </tr>\n",
       "    <tr>\n",
       "      <th>6</th>\n",
       "      <td>title_status</td>\n",
       "      <td>0.011</td>\n",
       "      <td>0.000</td>\n",
       "    </tr>\n",
       "    <tr>\n",
       "      <th>7</th>\n",
       "      <td>transmission</td>\n",
       "      <td>0.004</td>\n",
       "      <td>0.000</td>\n",
       "    </tr>\n",
       "    <tr>\n",
       "      <th>11</th>\n",
       "      <td>paint_color</td>\n",
       "      <td>0.002</td>\n",
       "      <td>0.000</td>\n",
       "    </tr>\n",
       "    <tr>\n",
       "      <th>2</th>\n",
       "      <td>condition</td>\n",
       "      <td>0.001</td>\n",
       "      <td>0.000</td>\n",
       "    </tr>\n",
       "    <tr>\n",
       "      <th>9</th>\n",
       "      <td>size</td>\n",
       "      <td>0.001</td>\n",
       "      <td>0.000</td>\n",
       "    </tr>\n",
       "  </tbody>\n",
       "</table>\n",
       "</div>"
      ],
      "text/plain": [
       "         Feature  Importance  Std Deviation\n",
       "5       odometer       0.370          0.003\n",
       "0           year       0.250          0.002\n",
       "4           fuel       0.074          0.001\n",
       "1   manufacturer       0.061          0.001\n",
       "8          drive       0.059          0.001\n",
       "10          type       0.056          0.001\n",
       "3      cylinders       0.029          0.001\n",
       "12         state       0.022          0.001\n",
       "6   title_status       0.011          0.000\n",
       "7   transmission       0.004          0.000\n",
       "11   paint_color       0.002          0.000\n",
       "2      condition       0.001          0.000\n",
       "9           size       0.001          0.000"
      ]
     },
     "execution_count": 59,
     "metadata": {},
     "output_type": "execute_result"
    }
   ],
   "source": [
    "# Calculate permutation feature importance\n",
    "perm_importance = permutation_importance(lr_best, X_test, y_test, n_repeats=30, random_state=42)\n",
    "\n",
    "# Create a DataFrame to store feature importance results\n",
    "feature_importance_df = pd.DataFrame({\n",
    "    'Feature': X_test.columns,\n",
    "    'Importance': perm_importance.importances_mean,\n",
    "    'Std Deviation': perm_importance.importances_std\n",
    "})\n",
    "\n",
    "# Sort the DataFrame by importance in descending order\n",
    "feature_importance_df = feature_importance_df.sort_values(by='Importance', ascending=False)\n",
    "\n",
    "feature_importance_df"
   ]
  },
  {
   "cell_type": "markdown",
   "metadata": {},
   "source": [
    "Here we see that the top two most influential features are odometer and year, which makes sense as these are typical considerations for buyers when selecting a car.\n",
    "\n",
    "After these two, a certain magnitude lower importance was fuel type, then manufacturer and type of car."
   ]
  },
  {
   "cell_type": "markdown",
   "metadata": {},
   "source": [
    "To deep dive some of the exact features effect on price, we can review the largest and smallest coefficient values for the linear regression model."
   ]
  },
  {
   "cell_type": "code",
   "execution_count": 60,
   "metadata": {},
   "outputs": [],
   "source": [
    "#Extract model feature names after the column transformer is applied\n",
    "feature_names = lr_best.named_steps['transformer'].get_feature_names_out() \n",
    "# Remove prefixes from feature names\n",
    "cleaned_feature_names = [name.split('__')[-1] for name in feature_names]\n",
    "\n",
    "#Extract best linear regression coefficeints:\n",
    "lr_coefs = lr_best.named_steps['lr'].coef_\n",
    "\n",
    "#Print coefficients for each feature\n",
    "coef_df = pd.DataFrame({'Feature': cleaned_feature_names,\n",
    "                        'LinReg Coefficient': lr_coefs})\n",
    "\n",
    "coef_df = coef_df.sort_values(by = 'LinReg Coefficient', ascending = False);"
   ]
  },
  {
   "cell_type": "code",
   "execution_count": 61,
   "metadata": {},
   "outputs": [
    {
     "data": {
      "text/html": [
       "<div>\n",
       "<style scoped>\n",
       "    .dataframe tbody tr th:only-of-type {\n",
       "        vertical-align: middle;\n",
       "    }\n",
       "\n",
       "    .dataframe tbody tr th {\n",
       "        vertical-align: top;\n",
       "    }\n",
       "\n",
       "    .dataframe thead th {\n",
       "        text-align: right;\n",
       "    }\n",
       "</style>\n",
       "<table border=\"1\" class=\"dataframe\">\n",
       "  <thead>\n",
       "    <tr style=\"text-align: right;\">\n",
       "      <th></th>\n",
       "      <th>Feature</th>\n",
       "      <th>LinReg Coefficient</th>\n",
       "    </tr>\n",
       "  </thead>\n",
       "  <tbody>\n",
       "    <tr>\n",
       "      <th>37</th>\n",
       "      <td>manufacturer_tesla</td>\n",
       "      <td>18457.753</td>\n",
       "    </tr>\n",
       "    <tr>\n",
       "      <th>8</th>\n",
       "      <td>manufacturer_datsun</td>\n",
       "      <td>14648.727</td>\n",
       "    </tr>\n",
       "    <tr>\n",
       "      <th>1</th>\n",
       "      <td>manufacturer_aston-martin</td>\n",
       "      <td>11276.243</td>\n",
       "    </tr>\n",
       "    <tr>\n",
       "      <th>32</th>\n",
       "      <td>manufacturer_porsche</td>\n",
       "      <td>9098.094</td>\n",
       "    </tr>\n",
       "    <tr>\n",
       "      <th>10</th>\n",
       "      <td>manufacturer_ferrari</td>\n",
       "      <td>5249.238</td>\n",
       "    </tr>\n",
       "    <tr>\n",
       "      <th>62</th>\n",
       "      <td>type_pickup</td>\n",
       "      <td>4675.565</td>\n",
       "    </tr>\n",
       "    <tr>\n",
       "      <th>64</th>\n",
       "      <td>type_truck</td>\n",
       "      <td>4363.256</td>\n",
       "    </tr>\n",
       "    <tr>\n",
       "      <th>134</th>\n",
       "      <td>year</td>\n",
       "      <td>4249.293</td>\n",
       "    </tr>\n",
       "    <tr>\n",
       "      <th>34</th>\n",
       "      <td>manufacturer_rover</td>\n",
       "      <td>3848.024</td>\n",
       "    </tr>\n",
       "    <tr>\n",
       "      <th>60</th>\n",
       "      <td>type_offroad</td>\n",
       "      <td>3507.938</td>\n",
       "    </tr>\n",
       "    <tr>\n",
       "      <th>21</th>\n",
       "      <td>manufacturer_land rover</td>\n",
       "      <td>3385.306</td>\n",
       "    </tr>\n",
       "    <tr>\n",
       "      <th>0</th>\n",
       "      <td>manufacturer_alfa-romeo</td>\n",
       "      <td>3045.025</td>\n",
       "    </tr>\n",
       "    <tr>\n",
       "      <th>55</th>\n",
       "      <td>type_bus</td>\n",
       "      <td>2481.022</td>\n",
       "    </tr>\n",
       "    <tr>\n",
       "      <th>61</th>\n",
       "      <td>type_other</td>\n",
       "      <td>2440.258</td>\n",
       "    </tr>\n",
       "    <tr>\n",
       "      <th>57</th>\n",
       "      <td>type_coupe</td>\n",
       "      <td>2399.784</td>\n",
       "    </tr>\n",
       "    <tr>\n",
       "      <th>56</th>\n",
       "      <td>type_convertible</td>\n",
       "      <td>2096.825</td>\n",
       "    </tr>\n",
       "    <tr>\n",
       "      <th>22</th>\n",
       "      <td>manufacturer_lexus</td>\n",
       "      <td>1942.137</td>\n",
       "    </tr>\n",
       "    <tr>\n",
       "      <th>66</th>\n",
       "      <td>type_van</td>\n",
       "      <td>1924.189</td>\n",
       "    </tr>\n",
       "    <tr>\n",
       "      <th>50</th>\n",
       "      <td>transmission_manual</td>\n",
       "      <td>1883.786</td>\n",
       "    </tr>\n",
       "    <tr>\n",
       "      <th>51</th>\n",
       "      <td>transmission_other</td>\n",
       "      <td>1809.143</td>\n",
       "    </tr>\n",
       "  </tbody>\n",
       "</table>\n",
       "</div>"
      ],
      "text/plain": [
       "                       Feature  LinReg Coefficient\n",
       "37          manufacturer_tesla           18457.753\n",
       "8          manufacturer_datsun           14648.727\n",
       "1    manufacturer_aston-martin           11276.243\n",
       "32        manufacturer_porsche            9098.094\n",
       "10        manufacturer_ferrari            5249.238\n",
       "62                 type_pickup            4675.565\n",
       "64                  type_truck            4363.256\n",
       "134                       year            4249.293\n",
       "34          manufacturer_rover            3848.024\n",
       "60                type_offroad            3507.938\n",
       "21     manufacturer_land rover            3385.306\n",
       "0      manufacturer_alfa-romeo            3045.025\n",
       "55                    type_bus            2481.022\n",
       "61                  type_other            2440.258\n",
       "57                  type_coupe            2399.784\n",
       "56            type_convertible            2096.825\n",
       "22          manufacturer_lexus            1942.137\n",
       "66                    type_van            1924.189\n",
       "50         transmission_manual            1883.786\n",
       "51          transmission_other            1809.143"
      ]
     },
     "execution_count": 61,
     "metadata": {},
     "output_type": "execute_result"
    }
   ],
   "source": [
    "#Print the top 10 coefficients\n",
    "coef_df.head(20)"
   ]
  },
  {
   "cell_type": "code",
   "execution_count": 62,
   "metadata": {},
   "outputs": [
    {
     "data": {
      "text/html": [
       "<div>\n",
       "<style scoped>\n",
       "    .dataframe tbody tr th:only-of-type {\n",
       "        vertical-align: middle;\n",
       "    }\n",
       "\n",
       "    .dataframe tbody tr th {\n",
       "        vertical-align: top;\n",
       "    }\n",
       "\n",
       "    .dataframe thead th {\n",
       "        text-align: right;\n",
       "    }\n",
       "</style>\n",
       "<table border=\"1\" class=\"dataframe\">\n",
       "  <thead>\n",
       "    <tr style=\"text-align: right;\">\n",
       "      <th></th>\n",
       "      <th>Feature</th>\n",
       "      <th>LinReg Coefficient</th>\n",
       "    </tr>\n",
       "  </thead>\n",
       "  <tbody>\n",
       "    <tr>\n",
       "      <th>98</th>\n",
       "      <td>state_ma</td>\n",
       "      <td>-4281.357</td>\n",
       "    </tr>\n",
       "    <tr>\n",
       "      <th>109</th>\n",
       "      <td>state_nh</td>\n",
       "      <td>-4355.253</td>\n",
       "    </tr>\n",
       "    <tr>\n",
       "      <th>48</th>\n",
       "      <td>title_status_rebuilt</td>\n",
       "      <td>-4384.083</td>\n",
       "    </tr>\n",
       "    <tr>\n",
       "      <th>30</th>\n",
       "      <td>manufacturer_nissan</td>\n",
       "      <td>-4466.612</td>\n",
       "    </tr>\n",
       "    <tr>\n",
       "      <th>113</th>\n",
       "      <td>state_ny</td>\n",
       "      <td>-4533.551</td>\n",
       "    </tr>\n",
       "    <tr>\n",
       "      <th>16</th>\n",
       "      <td>manufacturer_hyundai</td>\n",
       "      <td>-4645.125</td>\n",
       "    </tr>\n",
       "    <tr>\n",
       "      <th>49</th>\n",
       "      <td>title_status_salvage</td>\n",
       "      <td>-4692.430</td>\n",
       "    </tr>\n",
       "    <tr>\n",
       "      <th>27</th>\n",
       "      <td>manufacturer_mini</td>\n",
       "      <td>-4791.004</td>\n",
       "    </tr>\n",
       "    <tr>\n",
       "      <th>52</th>\n",
       "      <td>drive_fwd</td>\n",
       "      <td>-5033.799</td>\n",
       "    </tr>\n",
       "    <tr>\n",
       "      <th>133</th>\n",
       "      <td>odometer</td>\n",
       "      <td>-5149.203</td>\n",
       "    </tr>\n",
       "    <tr>\n",
       "      <th>20</th>\n",
       "      <td>manufacturer_kia</td>\n",
       "      <td>-5304.863</td>\n",
       "    </tr>\n",
       "    <tr>\n",
       "      <th>28</th>\n",
       "      <td>manufacturer_mitsubishi</td>\n",
       "      <td>-5860.890</td>\n",
       "    </tr>\n",
       "    <tr>\n",
       "      <th>47</th>\n",
       "      <td>title_status_parts only</td>\n",
       "      <td>-6550.677</td>\n",
       "    </tr>\n",
       "    <tr>\n",
       "      <th>44</th>\n",
       "      <td>fuel_other</td>\n",
       "      <td>-8931.191</td>\n",
       "    </tr>\n",
       "    <tr>\n",
       "      <th>11</th>\n",
       "      <td>manufacturer_fiat</td>\n",
       "      <td>-9234.281</td>\n",
       "    </tr>\n",
       "    <tr>\n",
       "      <th>14</th>\n",
       "      <td>manufacturer_harley-davidson</td>\n",
       "      <td>-10256.069</td>\n",
       "    </tr>\n",
       "    <tr>\n",
       "      <th>42</th>\n",
       "      <td>fuel_gas</td>\n",
       "      <td>-10538.895</td>\n",
       "    </tr>\n",
       "    <tr>\n",
       "      <th>43</th>\n",
       "      <td>fuel_hybrid</td>\n",
       "      <td>-11258.963</td>\n",
       "    </tr>\n",
       "    <tr>\n",
       "      <th>41</th>\n",
       "      <td>fuel_electric</td>\n",
       "      <td>-15027.050</td>\n",
       "    </tr>\n",
       "    <tr>\n",
       "      <th>29</th>\n",
       "      <td>manufacturer_morgan</td>\n",
       "      <td>-24194.779</td>\n",
       "    </tr>\n",
       "  </tbody>\n",
       "</table>\n",
       "</div>"
      ],
      "text/plain": [
       "                          Feature  LinReg Coefficient\n",
       "98                       state_ma           -4281.357\n",
       "109                      state_nh           -4355.253\n",
       "48           title_status_rebuilt           -4384.083\n",
       "30            manufacturer_nissan           -4466.612\n",
       "113                      state_ny           -4533.551\n",
       "16           manufacturer_hyundai           -4645.125\n",
       "49           title_status_salvage           -4692.430\n",
       "27              manufacturer_mini           -4791.004\n",
       "52                      drive_fwd           -5033.799\n",
       "133                      odometer           -5149.203\n",
       "20               manufacturer_kia           -5304.863\n",
       "28        manufacturer_mitsubishi           -5860.890\n",
       "47        title_status_parts only           -6550.677\n",
       "44                     fuel_other           -8931.191\n",
       "11              manufacturer_fiat           -9234.281\n",
       "14   manufacturer_harley-davidson          -10256.069\n",
       "42                       fuel_gas          -10538.895\n",
       "43                    fuel_hybrid          -11258.963\n",
       "41                  fuel_electric          -15027.050\n",
       "29            manufacturer_morgan          -24194.779"
      ]
     },
     "execution_count": 62,
     "metadata": {},
     "output_type": "execute_result"
    }
   ],
   "source": [
    "coef_df.tail(20)"
   ]
  },
  {
   "cell_type": "markdown",
   "metadata": {},
   "source": [
    "### Deployment\n",
    "\n",
    "Now that we've settled on our models and findings, it is time to deliver the information to the client.  You should organize your work as a basic report that details your primary findings.  Keep in mind that your audience is a group of used car dealers interested in fine tuning their inventory."
   ]
  },
  {
   "cell_type": "markdown",
   "metadata": {},
   "source": [
    "Please see README for the report to clients"
   ]
  },
  {
   "cell_type": "code",
   "execution_count": null,
   "metadata": {},
   "outputs": [],
   "source": []
  },
  {
   "cell_type": "code",
   "execution_count": null,
   "metadata": {},
   "outputs": [],
   "source": []
  },
  {
   "cell_type": "code",
   "execution_count": null,
   "metadata": {},
   "outputs": [],
   "source": []
  },
  {
   "cell_type": "code",
   "execution_count": null,
   "metadata": {},
   "outputs": [],
   "source": []
  },
  {
   "cell_type": "code",
   "execution_count": null,
   "metadata": {},
   "outputs": [],
   "source": []
  },
  {
   "cell_type": "code",
   "execution_count": null,
   "metadata": {},
   "outputs": [],
   "source": []
  }
 ],
 "metadata": {
  "kernelspec": {
   "display_name": "Python 3 (ipykernel)",
   "language": "python",
   "name": "python3"
  },
  "language_info": {
   "codemirror_mode": {
    "name": "ipython",
    "version": 3
   },
   "file_extension": ".py",
   "mimetype": "text/x-python",
   "name": "python",
   "nbconvert_exporter": "python",
   "pygments_lexer": "ipython3",
   "version": "3.11.5"
  },
  "widgets": {
   "application/vnd.jupyter.widget-state+json": {
    "state": {},
    "version_major": 2,
    "version_minor": 0
   }
  }
 },
 "nbformat": 4,
 "nbformat_minor": 4
}
